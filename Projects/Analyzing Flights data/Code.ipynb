{
  "cells": [
    {
      "cell_type": "code",
      "source": [
        "#IST718 Group7 Project "
      ],
      "metadata": {
        "id": "P02PDKveNz77"
      },
      "execution_count": null,
      "outputs": []
    },
    {
      "cell_type": "code",
      "source": [
        "%%bash\n",
        "# Do not change or modify this cell\n",
        "# Need to install pyspark\n",
        "# if pyspark is already installed, will print a message indicating pyspark already isntalled\n",
        "pip install pyspark &> /dev/null"
      ],
      "metadata": {
        "id": "UpXPoJ9L5ryA"
      },
      "execution_count": null,
      "outputs": []
    },
    {
      "cell_type": "code",
      "execution_count": null,
      "metadata": {
        "id": "ztUQPmfH461H"
      },
      "outputs": [],
      "source": [
        "from pyspark import SparkContext, SparkConf, SQLContext\n",
        "from pyspark.sql import SparkSession, SQLContext\n",
        "from pyspark.sql import functions as F \n",
        "from pyspark import SparkConf\n",
        "from pyspark.ml.evaluation import RegressionEvaluator\n",
        "from pyspark.ml.recommendation import ALS\n",
        "from pyspark.ml.tuning import CrossValidator, ParamGridBuilder\n",
        "from pyspark.sql import SparkSession\n",
        "from pyspark.sql.types import *\n",
        "from pyspark.sql import functions as F\n",
        "from pyspark.sql.types import *\n",
        "\n",
        "import pandas as pd\n",
        "import numpy as np \n",
        "import matplotlib as plt\n",
        "import matplotlib.pyplot as pyplot\n",
        "import seaborn as sns\n",
        "import ast, json\n",
        "import glob\n",
        "%matplotlib inline  "
      ]
    },
    {
      "cell_type": "code",
      "execution_count": null,
      "metadata": {
        "id": "ylZGseKn461N"
      },
      "outputs": [],
      "source": [
        "spark = SparkSession.builder.master(\"local[2]\").appName(\"airline\").config(\"spark.some.config.option\", \"some-value\").getOrCreate()\n",
        "airline_df=spark.read.format('csv').option(\"header\",\"true\").load(\"airline_2019.csv\")"
      ]
    },
    {
      "cell_type": "code",
      "execution_count": null,
      "metadata": {
        "colab": {
          "base_uri": "https://localhost:8080/"
        },
        "id": "qjQBtwBn461Q",
        "outputId": "768fb389-b1c5-4a03-da40-f79f8df0e5e1"
      },
      "outputs": [
        {
          "output_type": "stream",
          "name": "stdout",
          "text": [
            "+--------+---------------------+--------+------+----------------+---------------+----+--------------+-------------+------------+--------+--------+----------+---------+-------+------------+--------+---------+-----------------+--------+-------------+-------------+---------+--------------+-------------------+-----------+\n",
            "| FL_DATE|OP_CARRIER_AIRLINE_ID|TAIL_NUM|ORIGIN|ORIGIN_CITY_NAME|ORIGIN_STATE_NM|DEST|DEST_CITY_NAME|DEST_STATE_NM|CRS_DEP_TIME|DEP_TIME|TAXI_OUT|WHEELS_OFF|WHEELS_ON|TAXI_IN|CRS_ARR_TIME|ARR_TIME|CANCELLED|CANCELLATION_CODE|DIVERTED|CARRIER_DELAY|WEATHER_DELAY|NAS_DELAY|SECURITY_DELAY|LATE_AIRCRAFT_DELAY|Unnamed: 25|\n",
            "+--------+---------------------+--------+------+----------------+---------------+----+--------------+-------------+------------+--------+--------+----------+---------+-------+------------+--------+---------+-----------------+--------+-------------+-------------+---------+--------------+-------------------+-----------+\n",
            "|2019/4/1|                20416|  N605NK|   BWI|   Baltimore, MD|       Maryland| MCO|   Orlando, FL|      Florida|        1020|    1037|      11|      1048|     1249|     16|        1245|    1305|        0|             null|       0|            0|            0|        3|             0|                 17|       null|\n",
            "|2019/4/1|                20416|  N605NK|   DTW|     Detroit, MI|       Michigan| BWI| Baltimore, MD|     Maryland|         755|     830|      12|       842|      942|      6|         928|     948|        0|             null|       0|           20|            0|        0|             0|                  0|       null|\n",
            "|2019/4/1|                20416|  N605NK|   BWI|   Baltimore, MD|       Maryland| DTW|   Detroit, MI|     Michigan|        1931|    1946|       8|      1954|     2105|     29|        2108|    2134|        0|             null|       0|           10|            0|       11|             0|                  5|       null|\n",
            "|2019/4/1|                20416|  N605NK|   MCO|     Orlando, FL|        Florida| BWI| Baltimore, MD|     Maryland|        1623|    1651|      11|      1702|     1841|      5|        1841|    1846|        0|             null|       0|         null|         null|     null|          null|               null|       null|\n",
            "|2019/4/1|                20416|  N637NK|   LAS|   Las Vegas, NV|         Nevada| DTW|   Detroit, MI|     Michigan|        2320|    2348|      23|        11|      632|     11|         622|     643|        0|             null|       0|           21|            0|        0|             0|                  0|       null|\n",
            "+--------+---------------------+--------+------+----------------+---------------+----+--------------+-------------+------------+--------+--------+----------+---------+-------+------------+--------+---------+-----------------+--------+-------------+-------------+---------+--------------+-------------------+-----------+\n",
            "only showing top 5 rows\n",
            "\n"
          ]
        }
      ],
      "source": [
        "airline_df.show(5)"
      ]
    },
    {
      "cell_type": "code",
      "execution_count": null,
      "metadata": {
        "colab": {
          "base_uri": "https://localhost:8080/"
        },
        "id": "BJpUzRzr461S",
        "outputId": "a57ac699-3fd6-4cff-fed0-02e27b223dbf"
      },
      "outputs": [
        {
          "output_type": "execute_result",
          "data": {
            "text/plain": [
              "1022617"
            ]
          },
          "metadata": {},
          "execution_count": 469
        }
      ],
      "source": [
        "# remove the null row\n",
        "airline_df = airline_df.filter(airline_df.ARR_TIME. isNotNull()).filter(airline_df.CRS_ARR_TIME. isNotNull()).filter(airline_df.DEP_TIME. isNotNull()).filter(airline_df.CRS_DEP_TIME. isNotNull())\n",
        "airline_df.count()"
      ]
    },
    {
      "cell_type": "code",
      "execution_count": null,
      "metadata": {
        "id": "Rqi4z9PE461U",
        "colab": {
          "base_uri": "https://localhost:8080/"
        },
        "outputId": "fc1ef744-940d-4e06-c836-52f6ea77f2e4"
      },
      "outputs": [
        {
          "output_type": "execute_result",
          "data": {
            "text/plain": [
              "204856"
            ]
          },
          "metadata": {},
          "execution_count": 470
        }
      ],
      "source": [
        "#sample 20%\n",
        "df=airline_df.sample(0.2,2022)\n",
        "df.count()"
      ]
    },
    {
      "cell_type": "code",
      "source": [
        "# find which row contains delayed flights\n",
        "from pyspark.sql.types import *\n",
        "def target_normal(ARR_TIME,CRS_ARR_TIME):\n",
        "    if float(ARR_TIME)-float(CRS_ARR_TIME)>0:\n",
        "        return 1\n",
        "    else:\n",
        "        return 0\n",
        "target_normal_udf = F.udf(lambda x,y:target_normal(x,y),IntegerType())\n",
        "df_one=df.withColumn(\"zeroone\", target_normal_udf(df[\"ARR_TIME\"],df[\"CRS_ARR_TIME\"]))"
      ],
      "metadata": {
        "id": "gnbxYDDmpsT0"
      },
      "execution_count": null,
      "outputs": []
    },
    {
      "cell_type": "code",
      "source": [
        "# find which row contains delayed flights\n",
        "from pyspark.sql.types import *\n",
        "def target_normal(DEP_TIME,CRS_DEP_TIME):\n",
        "    if float(DEP_TIME)-float(CRS_DEP_TIME)>0:\n",
        "        return 1\n",
        "    else:\n",
        "        return 0\n",
        "target_normal_udf = F.udf(lambda x,y:target_normal(x,y),IntegerType())\n",
        "df_one_one=df_one.withColumn(\"dep_zeroone\", target_normal_udf(df[\"DEP_TIME\"],df[\"CRS_DEP_TIME\"]))"
      ],
      "metadata": {
        "id": "_-KrN5uCpsm7"
      },
      "execution_count": null,
      "outputs": []
    },
    {
      "cell_type": "code",
      "source": [
        "#remove rows that flights are not delayed when departing\n",
        "df_one_one = df_one_one.where(df_one_one.dep_zeroone > 0)\n",
        "df_one_one = df_one_one.where(df_one_one.zeroone > 0)\n",
        "df_one_one.show(3)"
      ],
      "metadata": {
        "colab": {
          "base_uri": "https://localhost:8080/"
        },
        "id": "l-ILoBZ2qQzP",
        "outputId": "827e289e-2c6b-4a57-d5d8-96829f1a7fd5"
      },
      "execution_count": null,
      "outputs": [
        {
          "output_type": "stream",
          "name": "stdout",
          "text": [
            "+--------+---------------------+--------+------+-------------------+---------------+----+---------------+-------------+------------+--------+--------+----------+---------+-------+------------+--------+---------+-----------------+--------+-------------+-------------+---------+--------------+-------------------+-----------+-------+-----------+\n",
            "| FL_DATE|OP_CARRIER_AIRLINE_ID|TAIL_NUM|ORIGIN|   ORIGIN_CITY_NAME|ORIGIN_STATE_NM|DEST| DEST_CITY_NAME|DEST_STATE_NM|CRS_DEP_TIME|DEP_TIME|TAXI_OUT|WHEELS_OFF|WHEELS_ON|TAXI_IN|CRS_ARR_TIME|ARR_TIME|CANCELLED|CANCELLATION_CODE|DIVERTED|CARRIER_DELAY|WEATHER_DELAY|NAS_DELAY|SECURITY_DELAY|LATE_AIRCRAFT_DELAY|Unnamed: 25|zeroone|dep_zeroone|\n",
            "+--------+---------------------+--------+------+-------------------+---------------+----+---------------+-------------+------------+--------+--------+----------+---------+-------+------------+--------+---------+-----------------+--------+-------------+-------------+---------+--------------+-------------------+-----------+-------+-----------+\n",
            "|2019/4/1|                20416|  N681NK|   FLL|Fort Lauderdale, FL|        Florida| BQN|  Aguadilla, PR|  Puerto Rico|        1125|    1138|      13|      1151|     1348|      8|        1350|    1356|        0|             null|       0|         null|         null|     null|          null|               null|       null|      1|          1|\n",
            "|2019/4/1|                20416|  N503NK|   TPA|          Tampa, FL|        Florida| MSP|Minneapolis, MN|    Minnesota|        1530|    1531|       9|      1540|     1736|     27|        1802|    1803|        0|             null|       0|         null|         null|     null|          null|               null|       null|      1|          1|\n",
            "|2019/4/1|                20416|  N519NK|   MCO|        Orlando, FL|        Florida| BDL|   Hartford, CT|  Connecticut|        1510|    1531|      18|      1549|     1754|      3|        1754|    1757|        0|             null|       0|         null|         null|     null|          null|               null|       null|      1|          1|\n",
            "+--------+---------------------+--------+------+-------------------+---------------+----+---------------+-------------+------------+--------+--------+----------+---------+-------+------------+--------+---------+-----------------+--------+-------------+-------------+---------+--------------+-------------------+-----------+-------+-----------+\n",
            "only showing top 3 rows\n",
            "\n"
          ]
        }
      ]
    },
    {
      "cell_type": "code",
      "source": [
        "graph_df_one_one = df_one_one"
      ],
      "metadata": {
        "id": "LYTR3IhosGZc"
      },
      "execution_count": null,
      "outputs": []
    },
    {
      "cell_type": "code",
      "source": [
        "#compute the ARR_DELAY\n",
        "from pyspark.sql.types import *\n",
        "import time\n",
        "import datetime\n",
        "def target_normal2(ARR_TIME,CRS_ARR_TIME):\n",
        "    try:\n",
        "        ARR_TIME=str(int(float(ARR_TIME)))\n",
        "        CRS_ARR_TIME=str(int(float(CRS_ARR_TIME)))\n",
        "        h=time.strptime(ARR_TIME, \"%H%M\")\n",
        "        h1=time.strptime(CRS_ARR_TIME, \"%H%M\")\n",
        "\n",
        "        return (datetime.datetime(h[0],h[1],h[2],h[3],h[4])-datetime.datetime(h1[0],h1[1],h1[2],h1[3],h1[4])).seconds/60\n",
        "    except:\n",
        "        return None\n",
        "    \n",
        "target_normal_udf1 = F.udf(lambda x,y:target_normal2(x,y),FloatType())\n",
        "graph_df_one_one=graph_df_one_one.withColumn(\"ARR_DELAY\", target_normal_udf1(df[\"ARR_TIME\"],df[\"CRS_ARR_TIME\"]))\n",
        "\n",
        "\n"
      ],
      "metadata": {
        "id": "iPwP4wLZqQ5O"
      },
      "execution_count": null,
      "outputs": []
    },
    {
      "cell_type": "code",
      "source": [
        "#compute the DEP_DELAY\n",
        "def target_normal3(DEP_TIME,CRS_DEP_TIME):\n",
        "    try:\n",
        "        DEP_TIME=str(int(float(DEP_TIME)))\n",
        "        CRS_DEP_TIME=str(int(float(CRS_DEP_TIME)))\n",
        "        h=time.strptime(DEP_TIME, \"%H%M\")\n",
        "        h1=time.strptime(CRS_DEP_TIME, \"%H%M\")\n",
        "\n",
        "        return (datetime.datetime(h[0],h[1],h[2],h[3],h[4])-datetime.datetime(h1[0],h1[1],h1[2],h1[3],h1[4])).seconds/60\n",
        "    except:\n",
        "        return None\n",
        "    \n",
        "target_normal_udf_g = F.udf(lambda x,y:target_normal3(x,y),FloatType())\n",
        "graph_df_one_one = graph_df_one_one.withColumn(\"DEP_DELAY\", target_normal_udf_g(df[\"DEP_TIME\"],df[\"CRS_DEP_TIME\"]))"
      ],
      "metadata": {
        "id": "qpFXYmLIqQ9q"
      },
      "execution_count": null,
      "outputs": []
    },
    {
      "cell_type": "code",
      "source": [
        "graph_panda_df = graph_df_one_one.toPandas()\n",
        "arr_df = pd.read_csv(\"airline_2019.csv\")\n",
        "new_df = pd.concat([graph_panda_df[\"ARR_DELAY\"], arr_df],axis = 1, join=\"inner\")"
      ],
      "metadata": {
        "id": "Qy7UO982ok3W"
      },
      "execution_count": null,
      "outputs": []
    },
    {
      "cell_type": "code",
      "source": [
        "new_df2 = pd.concat([graph_panda_df[\"DEP_DELAY\"], new_df],axis = 1, join=\"inner\")"
      ],
      "metadata": {
        "id": "VTkb6UNmonnw"
      },
      "execution_count": null,
      "outputs": []
    },
    {
      "cell_type": "code",
      "source": [
        "new_df2.describe()"
      ],
      "metadata": {
        "id": "r3D5ltmEZ3dI"
      },
      "execution_count": null,
      "outputs": []
    },
    {
      "cell_type": "code",
      "source": [
        "def matrixCorr(df):\n",
        "  corr = df.corr()\n",
        "\n",
        "  # Generate a mask for the upper triangle\n",
        "  mask = np.zeros_like(corr, dtype=np.bool)\n",
        "  mask[np.triu_indices_from(mask)] = True\n",
        "\n",
        "  # Set up the matplotlib figure\n",
        "  f, ax = plt.pyplot.subplots(figsize=(11, 9))\n",
        "\n",
        "  # Generate a custom diverging colormap\n",
        "  cmap = sns.diverging_palette(210, 10, as_cmap=True)\n",
        "\n",
        "  # Draw the heatmap with the mask and correct aspect ratio\n",
        "  sns.heatmap(corr, cmap=cmap, annot=True, vmax=1, center=0, square=True, linewidths=0.5, cbar_kws={\"shrink\": 0.7}, fmt='.2f')\n",
        "  pyplot.show()\n",
        "\n",
        "matrixCorr(new_df2)"
      ],
      "metadata": {
        "colab": {
          "base_uri": "https://localhost:8080/",
          "height": 724
        },
        "id": "JH7SZBu4iLtR",
        "outputId": "16c8a4ce-cbb0-4ca7-ed82-4b1fc2d450e6"
      },
      "execution_count": null,
      "outputs": [
        {
          "output_type": "stream",
          "name": "stderr",
          "text": [
            "/usr/local/lib/python3.7/dist-packages/ipykernel_launcher.py:5: DeprecationWarning: `np.bool` is a deprecated alias for the builtin `bool`. To silence this warning, use `bool` by itself. Doing this will not modify any behavior and is safe. If you specifically wanted the numpy scalar type, use `np.bool_` here.\n",
            "Deprecated in NumPy 1.20; for more details and guidance: https://numpy.org/devdocs/release/1.20.0-notes.html#deprecations\n",
            "  \"\"\"\n"
          ]
        },
        {
          "output_type": "display_data",
          "data": {
            "text/plain": [
              "<Figure size 792x648 with 2 Axes>"
            ],
            "image/png": "[encoded data removed]"
          },
          "metadata": {
            "needs_background": "light"
          }
        }
      ]
    },
    {
      "cell_type": "code",
      "source": [
        "# NEW correlation grap\n",
        "corr = new_df2.corr()\n",
        "corr.style.background_gradient(cmap='coolwarm')"
      ],
      "metadata": {
        "colab": {
          "base_uri": "https://localhost:8080/",
          "height": 756
        },
        "id": "X0QQ9HxAXezH",
        "outputId": "57b99ec7-df5e-447d-91f3-507359529c08"
      },
      "execution_count": null,
      "outputs": [
        {
          "output_type": "stream",
          "name": "stderr",
          "text": [
            "/usr/local/lib/python3.7/dist-packages/pandas/io/formats/style.py:2813: RuntimeWarning: All-NaN slice encountered\n",
            "  smin = np.nanmin(gmap) if vmin is None else vmin\n",
            "/usr/local/lib/python3.7/dist-packages/pandas/io/formats/style.py:2814: RuntimeWarning: All-NaN slice encountered\n",
            "  smax = np.nanmax(gmap) if vmax is None else vmax\n"
          ]
        },
        {
          "output_type": "execute_result",
          "data": {
            "text/plain": [
              "<pandas.io.formats.style.Styler at 0x7f80b38c8790>"
            ],
            "text/html": [
              "<style type=\"text/css\">\n",
              "#T_922e0_row0_col0, #T_922e0_row1_col1, #T_922e0_row2_col2, #T_922e0_row3_col3, #T_922e0_row4_col4, #T_922e0_row5_col5, #T_922e0_row6_col6, #T_922e0_row7_col7, #T_922e0_row8_col8, #T_922e0_row9_col9, #T_922e0_row10_col10, #T_922e0_row11_col11, #T_922e0_row12_col12, #T_922e0_row13_col13, #T_922e0_row14_col14, #T_922e0_row15_col15, #T_922e0_row16_col16, #T_922e0_row17_col17 {\n",
              "  background-color: #b40426;\n",
              "  color: #f1f1f1;\n",
              "}\n",
              "#T_922e0_row0_col1, #T_922e0_row1_col0 {\n",
              "  background-color: #f5c1a9;\n",
              "  color: #000000;\n",
              "}\n",
              "#T_922e0_row0_col2, #T_922e0_row1_col2, #T_922e0_row1_col15, #T_922e0_row10_col13 {\n",
              "  background-color: #5470de;\n",
              "  color: #f1f1f1;\n",
              "}\n",
              "#T_922e0_row0_col3, #T_922e0_row1_col3 {\n",
              "  background-color: #7597f6;\n",
              "  color: #f1f1f1;\n",
              "}\n",
              "#T_922e0_row0_col4, #T_922e0_row1_col4, #T_922e0_row2_col6, #T_922e0_row5_col11, #T_922e0_row9_col2, #T_922e0_row12_col2, #T_922e0_row14_col4, #T_922e0_row16_col7 {\n",
              "  background-color: #5f7fe8;\n",
              "  color: #f1f1f1;\n",
              "}\n",
              "#T_922e0_row0_col5, #T_922e0_row1_col5, #T_922e0_row3_col0, #T_922e0_row4_col0, #T_922e0_row6_col0, #T_922e0_row7_col0, #T_922e0_row10_col0, #T_922e0_row11_col0, #T_922e0_row16_col0 {\n",
              "  background-color: #455cce;\n",
              "  color: #f1f1f1;\n",
              "}\n",
              "#T_922e0_row0_col6, #T_922e0_row4_col15, #T_922e0_row5_col6 {\n",
              "  background-color: #6282ea;\n",
              "  color: #f1f1f1;\n",
              "}\n",
              "#T_922e0_row0_col7, #T_922e0_row1_col7, #T_922e0_row2_col4, #T_922e0_row6_col2, #T_922e0_row7_col2, #T_922e0_row8_col3, #T_922e0_row11_col4, #T_922e0_row12_col6, #T_922e0_row16_col10 {\n",
              "  background-color: #5d7ce6;\n",
              "  color: #f1f1f1;\n",
              "}\n",
              "#T_922e0_row0_col8, #T_922e0_row6_col13, #T_922e0_row13_col8, #T_922e0_row16_col5 {\n",
              "  background-color: #4e68d8;\n",
              "  color: #f1f1f1;\n",
              "}\n",
              "#T_922e0_row0_col9, #T_922e0_row0_col13, #T_922e0_row2_col9, #T_922e0_row8_col13, #T_922e0_row17_col7 {\n",
              "  background-color: #6f92f3;\n",
              "  color: #f1f1f1;\n",
              "}\n",
              "#T_922e0_row0_col10, #T_922e0_row2_col7, #T_922e0_row4_col2, #T_922e0_row4_col11, #T_922e0_row5_col7, #T_922e0_row12_col4, #T_922e0_row12_col11, #T_922e0_row14_col10 {\n",
              "  background-color: #5b7ae5;\n",
              "  color: #f1f1f1;\n",
              "}\n",
              "#T_922e0_row0_col11, #T_922e0_row1_col11, #T_922e0_row6_col11, #T_922e0_row10_col2, #T_922e0_row14_col7 {\n",
              "  background-color: #5e7de7;\n",
              "  color: #f1f1f1;\n",
              "}\n",
              "#T_922e0_row0_col12, #T_922e0_row0_col14, #T_922e0_row1_col12, #T_922e0_row1_col14, #T_922e0_row8_col12, #T_922e0_row8_col16, #T_922e0_row10_col12, #T_922e0_row15_col1, #T_922e0_row15_col14, #T_922e0_row17_col16 {\n",
              "  background-color: #3d50c3;\n",
              "  color: #f1f1f1;\n",
              "}\n",
              "#T_922e0_row0_col15 {\n",
              "  background-color: #5572df;\n",
              "  color: #f1f1f1;\n",
              "}\n",
              "#T_922e0_row0_col16, #T_922e0_row2_col12, #T_922e0_row8_col14, #T_922e0_row9_col13, #T_922e0_row13_col15, #T_922e0_row16_col14, #T_922e0_row17_col13 {\n",
              "  background-color: #4055c8;\n",
              "  color: #f1f1f1;\n",
              "}\n",
              "#T_922e0_row0_col17, #T_922e0_row5_col3, #T_922e0_row5_col9, #T_922e0_row9_col15, #T_922e0_row10_col15, #T_922e0_row12_col9, #T_922e0_row14_col9, #T_922e0_row15_col6, #T_922e0_row16_col17 {\n",
              "  background-color: #6b8df0;\n",
              "  color: #f1f1f1;\n",
              "}\n",
              "#T_922e0_row0_col18, #T_922e0_row1_col18, #T_922e0_row2_col18, #T_922e0_row3_col18, #T_922e0_row4_col18, #T_922e0_row5_col18, #T_922e0_row6_col18, #T_922e0_row7_col11, #T_922e0_row7_col18, #T_922e0_row8_col11, #T_922e0_row8_col18, #T_922e0_row9_col18, #T_922e0_row10_col11, #T_922e0_row10_col18, #T_922e0_row11_col7, #T_922e0_row11_col8, #T_922e0_row11_col10, #T_922e0_row11_col13, #T_922e0_row11_col14, #T_922e0_row11_col15, #T_922e0_row11_col16, #T_922e0_row11_col17, #T_922e0_row11_col18, #T_922e0_row12_col13, #T_922e0_row12_col14, #T_922e0_row12_col15, #T_922e0_row12_col16, #T_922e0_row12_col17, #T_922e0_row12_col18, #T_922e0_row13_col11, #T_922e0_row13_col12, #T_922e0_row13_col18, #T_922e0_row14_col11, #T_922e0_row14_col12, #T_922e0_row14_col18, #T_922e0_row15_col11, #T_922e0_row15_col12, #T_922e0_row15_col18, #T_922e0_row16_col11, #T_922e0_row16_col12, #T_922e0_row16_col18, #T_922e0_row17_col11, #T_922e0_row17_col12, #T_922e0_row17_col18, #T_922e0_row18_col0, #T_922e0_row18_col1, #T_922e0_row18_col2, #T_922e0_row18_col3, #T_922e0_row18_col4, #T_922e0_row18_col5, #T_922e0_row18_col6, #T_922e0_row18_col7, #T_922e0_row18_col8, #T_922e0_row18_col9, #T_922e0_row18_col10, #T_922e0_row18_col11, #T_922e0_row18_col12, #T_922e0_row18_col13, #T_922e0_row18_col14, #T_922e0_row18_col15, #T_922e0_row18_col16, #T_922e0_row18_col17, #T_922e0_row18_col18 {\n",
              "  background-color: #000000;\n",
              "  color: #f1f1f1;\n",
              "}\n",
              "#T_922e0_row1_col6, #T_922e0_row11_col6, #T_922e0_row14_col6, #T_922e0_row16_col2 {\n",
              "  background-color: #6180e9;\n",
              "  color: #f1f1f1;\n",
              "}\n",
              "#T_922e0_row1_col8, #T_922e0_row4_col13, #T_922e0_row16_col8 {\n",
              "  background-color: #4f69d9;\n",
              "  color: #f1f1f1;\n",
              "}\n",
              "#T_922e0_row1_col9, #T_922e0_row1_col17, #T_922e0_row7_col15, #T_922e0_row14_col13, #T_922e0_row15_col7, #T_922e0_row17_col10 {\n",
              "  background-color: #6c8ff1;\n",
              "  color: #f1f1f1;\n",
              "}\n",
              "#T_922e0_row1_col10, #T_922e0_row2_col10, #T_922e0_row3_col2, #T_922e0_row3_col11, #T_922e0_row9_col11, #T_922e0_row12_col7, #T_922e0_row14_col2, #T_922e0_row16_col15 {\n",
              "  background-color: #5a78e4;\n",
              "  color: #f1f1f1;\n",
              "}\n",
              "#T_922e0_row1_col13, #T_922e0_row16_col13 {\n",
              "  background-color: #6e90f2;\n",
              "  color: #f1f1f1;\n",
              "}\n",
              "#T_922e0_row1_col16, #T_922e0_row5_col12, #T_922e0_row13_col1, #T_922e0_row14_col1, #T_922e0_row14_col16, #T_922e0_row15_col0, #T_922e0_row15_col16 {\n",
              "  background-color: #3e51c5;\n",
              "  color: #f1f1f1;\n",
              "}\n",
              "#T_922e0_row2_col0, #T_922e0_row2_col1, #T_922e0_row2_col11, #T_922e0_row3_col8, #T_922e0_row3_col13, #T_922e0_row4_col8, #T_922e0_row4_col12, #T_922e0_row6_col8, #T_922e0_row6_col12, #T_922e0_row11_col2, #T_922e0_row13_col3, #T_922e0_row13_col4, #T_922e0_row13_col5, #T_922e0_row13_col6, #T_922e0_row13_col7, #T_922e0_row13_col9, #T_922e0_row13_col10, #T_922e0_row13_col14, #T_922e0_row13_col16, #T_922e0_row13_col17, #T_922e0_row17_col8, #T_922e0_row17_col14, #T_922e0_row17_col15 {\n",
              "  background-color: #3b4cc0;\n",
              "  color: #f1f1f1;\n",
              "}\n",
              "#T_922e0_row2_col3, #T_922e0_row11_col3, #T_922e0_row14_col3 {\n",
              "  background-color: #7093f3;\n",
              "  color: #f1f1f1;\n",
              "}\n",
              "#T_922e0_row2_col5 {\n",
              "  background-color: #9abbff;\n",
              "  color: #000000;\n",
              "}\n",
              "#T_922e0_row2_col8, #T_922e0_row10_col17 {\n",
              "  background-color: #80a3fa;\n",
              "  color: #f1f1f1;\n",
              "}\n",
              "#T_922e0_row2_col13, #T_922e0_row2_col15 {\n",
              "  background-color: #7b9ff9;\n",
              "  color: #f1f1f1;\n",
              "}\n",
              "#T_922e0_row2_col14, #T_922e0_row3_col14, #T_922e0_row5_col0, #T_922e0_row5_col1, #T_922e0_row5_col14, #T_922e0_row9_col14, #T_922e0_row13_col0, #T_922e0_row14_col0 {\n",
              "  background-color: #3f53c6;\n",
              "  color: #f1f1f1;\n",
              "}\n",
              "#T_922e0_row2_col16, #T_922e0_row4_col14, #T_922e0_row4_col16, #T_922e0_row5_col16, #T_922e0_row6_col14, #T_922e0_row7_col16, #T_922e0_row9_col1, #T_922e0_row10_col16, #T_922e0_row12_col0, #T_922e0_row12_col1, #T_922e0_row16_col1, #T_922e0_row17_col1 {\n",
              "  background-color: #4358cb;\n",
              "  color: #f1f1f1;\n",
              "}\n",
              "#T_922e0_row2_col17 {\n",
              "  background-color: #86a9fc;\n",
              "  color: #f1f1f1;\n",
              "}\n",
              "#T_922e0_row3_col1, #T_922e0_row3_col16, #T_922e0_row4_col1, #T_922e0_row4_col5, #T_922e0_row6_col1, #T_922e0_row6_col16, #T_922e0_row7_col1, #T_922e0_row7_col14, #T_922e0_row9_col16, #T_922e0_row10_col1, #T_922e0_row10_col14, #T_922e0_row11_col1 {\n",
              "  background-color: #445acc;\n",
              "  color: #f1f1f1;\n",
              "}\n",
              "#T_922e0_row3_col4, #T_922e0_row4_col3, #T_922e0_row4_col6, #T_922e0_row6_col4, #T_922e0_row7_col10, #T_922e0_row10_col7 {\n",
              "  background-color: #bb1b2c;\n",
              "  color: #f1f1f1;\n",
              "}\n",
              "#T_922e0_row3_col5, #T_922e0_row8_col0, #T_922e0_row8_col1, #T_922e0_row17_col0, #T_922e0_row17_col5 {\n",
              "  background-color: #4257c9;\n",
              "  color: #f1f1f1;\n",
              "}\n",
              "#T_922e0_row3_col6, #T_922e0_row6_col3 {\n",
              "  background-color: #c12b30;\n",
              "  color: #f1f1f1;\n",
              "}\n",
              "#T_922e0_row3_col7, #T_922e0_row6_col10 {\n",
              "  background-color: #f7ac8e;\n",
              "  color: #000000;\n",
              "}\n",
              "#T_922e0_row3_col9, #T_922e0_row4_col9, #T_922e0_row6_col7, #T_922e0_row7_col3 {\n",
              "  background-color: #f6a385;\n",
              "  color: #000000;\n",
              "}\n",
              "#T_922e0_row3_col10 {\n",
              "  background-color: #f7b497;\n",
              "  color: #000000;\n",
              "}\n",
              "#T_922e0_row3_col12, #T_922e0_row7_col12, #T_922e0_row9_col12, #T_922e0_row11_col12 {\n",
              "  background-color: #3c4ec2;\n",
              "  color: #f1f1f1;\n",
              "}\n",
              "#T_922e0_row3_col15, #T_922e0_row5_col13, #T_922e0_row5_col17, #T_922e0_row8_col9, #T_922e0_row15_col4, #T_922e0_row16_col6 {\n",
              "  background-color: #6485ec;\n",
              "  color: #f1f1f1;\n",
              "}\n",
              "#T_922e0_row3_col17 {\n",
              "  background-color: #96b7ff;\n",
              "  color: #000000;\n",
              "}\n",
              "#T_922e0_row4_col7, #T_922e0_row9_col4 {\n",
              "  background-color: #f7a98b;\n",
              "  color: #000000;\n",
              "}\n",
              "#T_922e0_row4_col10 {\n",
              "  background-color: #f7b194;\n",
              "  color: #000000;\n",
              "}\n",
              "#T_922e0_row4_col17 {\n",
              "  background-color: #adc9fd;\n",
              "  color: #000000;\n",
              "}\n",
              "#T_922e0_row5_col2, #T_922e0_row6_col17 {\n",
              "  background-color: #aac7fd;\n",
              "  color: #000000;\n",
              "}\n",
              "#T_922e0_row5_col4, #T_922e0_row5_col10, #T_922e0_row15_col13 {\n",
              "  background-color: #5977e3;\n",
              "  color: #f1f1f1;\n",
              "}\n",
              "#T_922e0_row5_col8, #T_922e0_row12_col10 {\n",
              "  background-color: #5875e1;\n",
              "  color: #f1f1f1;\n",
              "}\n",
              "#T_922e0_row5_col15 {\n",
              "  background-color: #cdd9ec;\n",
              "  color: #000000;\n",
              "}\n",
              "#T_922e0_row6_col5, #T_922e0_row11_col5, #T_922e0_row15_col17 {\n",
              "  background-color: #4c66d6;\n",
              "  color: #f1f1f1;\n",
              "}\n",
              "#T_922e0_row6_col9, #T_922e0_row9_col3 {\n",
              "  background-color: #f5a081;\n",
              "  color: #000000;\n",
              "}\n",
              "#T_922e0_row6_col15, #T_922e0_row13_col2, #T_922e0_row14_col17 {\n",
              "  background-color: #6687ed;\n",
              "  color: #f1f1f1;\n",
              "}\n",
              "#T_922e0_row7_col4 {\n",
              "  background-color: #f7a889;\n",
              "  color: #000000;\n",
              "}\n",
              "#T_922e0_row7_col5, #T_922e0_row8_col6, #T_922e0_row10_col8, #T_922e0_row12_col5 {\n",
              "  background-color: #4a63d3;\n",
              "  color: #f1f1f1;\n",
              "}\n",
              "#T_922e0_row7_col6 {\n",
              "  background-color: #f6a283;\n",
              "  color: #000000;\n",
              "}\n",
              "#T_922e0_row7_col8, #T_922e0_row9_col0 {\n",
              "  background-color: #465ecf;\n",
              "  color: #f1f1f1;\n",
              "}\n",
              "#T_922e0_row7_col9, #T_922e0_row10_col9 {\n",
              "  background-color: #d95847;\n",
              "  color: #f1f1f1;\n",
              "}\n",
              "#T_922e0_row7_col13, #T_922e0_row8_col10 {\n",
              "  background-color: #536edd;\n",
              "  color: #f1f1f1;\n",
              "}\n",
              "#T_922e0_row7_col17 {\n",
              "  background-color: #81a4fb;\n",
              "  color: #f1f1f1;\n",
              "}\n",
              "#T_922e0_row8_col2, #T_922e0_row15_col8 {\n",
              "  background-color: #8caffe;\n",
              "  color: #000000;\n",
              "}\n",
              "#T_922e0_row8_col4, #T_922e0_row9_col5, #T_922e0_row14_col5 {\n",
              "  background-color: #485fd1;\n",
              "  color: #f1f1f1;\n",
              "}\n",
              "#T_922e0_row8_col5, #T_922e0_row8_col7 {\n",
              "  background-color: #516ddb;\n",
              "  color: #f1f1f1;\n",
              "}\n",
              "#T_922e0_row8_col15 {\n",
              "  background-color: #94b6ff;\n",
              "  color: #000000;\n",
              "}\n",
              "#T_922e0_row8_col17, #T_922e0_row14_col15 {\n",
              "  background-color: #5673e0;\n",
              "  color: #f1f1f1;\n",
              "}\n",
              "#T_922e0_row9_col6 {\n",
              "  background-color: #f6a586;\n",
              "  color: #000000;\n",
              "}\n",
              "#T_922e0_row9_col7, #T_922e0_row9_col10 {\n",
              "  background-color: #dc5d4a;\n",
              "  color: #f1f1f1;\n",
              "}\n",
              "#T_922e0_row9_col8, #T_922e0_row10_col5 {\n",
              "  background-color: #4961d2;\n",
              "  color: #f1f1f1;\n",
              "}\n",
              "#T_922e0_row9_col17 {\n",
              "  background-color: #93b5fe;\n",
              "  color: #000000;\n",
              "}\n",
              "#T_922e0_row10_col3, #T_922e0_row10_col6 {\n",
              "  background-color: #f7aa8c;\n",
              "  color: #000000;\n",
              "}\n",
              "#T_922e0_row10_col4 {\n",
              "  background-color: #f7af91;\n",
              "  color: #000000;\n",
              "}\n",
              "#T_922e0_row11_col9 {\n",
              "  background-color: #6a8bef;\n",
              "  color: #f1f1f1;\n",
              "}\n",
              "#T_922e0_row12_col3, #T_922e0_row16_col9 {\n",
              "  background-color: #7295f4;\n",
              "  color: #f1f1f1;\n",
              "}\n",
              "#T_922e0_row12_col8, #T_922e0_row14_col8 {\n",
              "  background-color: #506bda;\n",
              "  color: #f1f1f1;\n",
              "}\n",
              "#T_922e0_row15_col2 {\n",
              "  background-color: #7ea1fa;\n",
              "  color: #f1f1f1;\n",
              "}\n",
              "#T_922e0_row15_col3, #T_922e0_row15_col9 {\n",
              "  background-color: #7da0f9;\n",
              "  color: #f1f1f1;\n",
              "}\n",
              "#T_922e0_row15_col5 {\n",
              "  background-color: #c3d5f4;\n",
              "  color: #000000;\n",
              "}\n",
              "#T_922e0_row15_col10 {\n",
              "  background-color: #688aef;\n",
              "  color: #f1f1f1;\n",
              "}\n",
              "#T_922e0_row16_col3 {\n",
              "  background-color: #799cf8;\n",
              "  color: #f1f1f1;\n",
              "}\n",
              "#T_922e0_row16_col4 {\n",
              "  background-color: #6384eb;\n",
              "  color: #f1f1f1;\n",
              "}\n",
              "#T_922e0_row17_col2 {\n",
              "  background-color: #7699f6;\n",
              "  color: #f1f1f1;\n",
              "}\n",
              "#T_922e0_row17_col3 {\n",
              "  background-color: #9bbcff;\n",
              "  color: #000000;\n",
              "}\n",
              "#T_922e0_row17_col4, #T_922e0_row17_col6 {\n",
              "  background-color: #a1c0ff;\n",
              "  color: #000000;\n",
              "}\n",
              "#T_922e0_row17_col9 {\n",
              "  background-color: #92b4fe;\n",
              "  color: #000000;\n",
              "}\n",
              "</style>\n",
              "<table id=\"T_922e0_\" class=\"dataframe\">\n",
              "  <thead>\n",
              "    <tr>\n",
              "      <th class=\"blank level0\" >&nbsp;</th>\n",
              "      <th class=\"col_heading level0 col0\" >DEP_DELAY</th>\n",
              "      <th class=\"col_heading level0 col1\" >ARR_DELAY</th>\n",
              "      <th class=\"col_heading level0 col2\" >OP_CARRIER_AIRLINE_ID</th>\n",
              "      <th class=\"col_heading level0 col3\" >CRS_DEP_TIME</th>\n",
              "      <th class=\"col_heading level0 col4\" >DEP_TIME</th>\n",
              "      <th class=\"col_heading level0 col5\" >TAXI_OUT</th>\n",
              "      <th class=\"col_heading level0 col6\" >WHEELS_OFF</th>\n",
              "      <th class=\"col_heading level0 col7\" >WHEELS_ON</th>\n",
              "      <th class=\"col_heading level0 col8\" >TAXI_IN</th>\n",
              "      <th class=\"col_heading level0 col9\" >CRS_ARR_TIME</th>\n",
              "      <th class=\"col_heading level0 col10\" >ARR_TIME</th>\n",
              "      <th class=\"col_heading level0 col11\" >CANCELLED</th>\n",
              "      <th class=\"col_heading level0 col12\" >DIVERTED</th>\n",
              "      <th class=\"col_heading level0 col13\" >CARRIER_DELAY</th>\n",
              "      <th class=\"col_heading level0 col14\" >WEATHER_DELAY</th>\n",
              "      <th class=\"col_heading level0 col15\" >NAS_DELAY</th>\n",
              "      <th class=\"col_heading level0 col16\" >SECURITY_DELAY</th>\n",
              "      <th class=\"col_heading level0 col17\" >LATE_AIRCRAFT_DELAY</th>\n",
              "      <th class=\"col_heading level0 col18\" >Unnamed: 25</th>\n",
              "    </tr>\n",
              "  </thead>\n",
              "  <tbody>\n",
              "    <tr>\n",
              "      <th id=\"T_922e0_level0_row0\" class=\"row_heading level0 row0\" >DEP_DELAY</th>\n",
              "      <td id=\"T_922e0_row0_col0\" class=\"data row0 col0\" >1.000000</td>\n",
              "      <td id=\"T_922e0_row0_col1\" class=\"data row0 col1\" >0.622743</td>\n",
              "      <td id=\"T_922e0_row0_col2\" class=\"data row0 col2\" >-0.031864</td>\n",
              "      <td id=\"T_922e0_row0_col3\" class=\"data row0 col3\" >0.006229</td>\n",
              "      <td id=\"T_922e0_row0_col4\" class=\"data row0 col4\" >0.006237</td>\n",
              "      <td id=\"T_922e0_row0_col5\" class=\"data row0 col5\" >-0.014567</td>\n",
              "      <td id=\"T_922e0_row0_col6\" class=\"data row0 col6\" >0.007074</td>\n",
              "      <td id=\"T_922e0_row0_col7\" class=\"data row0 col7\" >0.007443</td>\n",
              "      <td id=\"T_922e0_row0_col8\" class=\"data row0 col8\" >-0.006934</td>\n",
              "      <td id=\"T_922e0_row0_col9\" class=\"data row0 col9\" >0.008445</td>\n",
              "      <td id=\"T_922e0_row0_col10\" class=\"data row0 col10\" >0.007470</td>\n",
              "      <td id=\"T_922e0_row0_col11\" class=\"data row0 col11\" >0.006281</td>\n",
              "      <td id=\"T_922e0_row0_col12\" class=\"data row0 col12\" >-0.000093</td>\n",
              "      <td id=\"T_922e0_row0_col13\" class=\"data row0 col13\" >-0.012629</td>\n",
              "      <td id=\"T_922e0_row0_col14\" class=\"data row0 col14\" >-0.014759</td>\n",
              "      <td id=\"T_922e0_row0_col15\" class=\"data row0 col15\" >-0.019138</td>\n",
              "      <td id=\"T_922e0_row0_col16\" class=\"data row0 col16\" >0.006852</td>\n",
              "      <td id=\"T_922e0_row0_col17\" class=\"data row0 col17\" >-0.005044</td>\n",
              "      <td id=\"T_922e0_row0_col18\" class=\"data row0 col18\" >nan</td>\n",
              "    </tr>\n",
              "    <tr>\n",
              "      <th id=\"T_922e0_level0_row1\" class=\"row_heading level0 row1\" >ARR_DELAY</th>\n",
              "      <td id=\"T_922e0_row1_col0\" class=\"data row1 col0\" >0.622743</td>\n",
              "      <td id=\"T_922e0_row1_col1\" class=\"data row1 col1\" >1.000000</td>\n",
              "      <td id=\"T_922e0_row1_col2\" class=\"data row1 col2\" >-0.029715</td>\n",
              "      <td id=\"T_922e0_row1_col3\" class=\"data row1 col3\" >0.005217</td>\n",
              "      <td id=\"T_922e0_row1_col4\" class=\"data row1 col4\" >0.004623</td>\n",
              "      <td id=\"T_922e0_row1_col5\" class=\"data row1 col5\" >-0.013542</td>\n",
              "      <td id=\"T_922e0_row1_col6\" class=\"data row1 col6\" >0.005682</td>\n",
              "      <td id=\"T_922e0_row1_col7\" class=\"data row1 col7\" >0.004829</td>\n",
              "      <td id=\"T_922e0_row1_col8\" class=\"data row1 col8\" >-0.004648</td>\n",
              "      <td id=\"T_922e0_row1_col9\" class=\"data row1 col9\" >0.001595</td>\n",
              "      <td id=\"T_922e0_row1_col10\" class=\"data row1 col10\" >0.004191</td>\n",
              "      <td id=\"T_922e0_row1_col11\" class=\"data row1 col11\" >0.005361</td>\n",
              "      <td id=\"T_922e0_row1_col12\" class=\"data row1 col12\" >-0.001358</td>\n",
              "      <td id=\"T_922e0_row1_col13\" class=\"data row1 col13\" >-0.016975</td>\n",
              "      <td id=\"T_922e0_row1_col14\" class=\"data row1 col14\" >-0.014980</td>\n",
              "      <td id=\"T_922e0_row1_col15\" class=\"data row1 col15\" >-0.021576</td>\n",
              "      <td id=\"T_922e0_row1_col16\" class=\"data row1 col16\" >0.001057</td>\n",
              "      <td id=\"T_922e0_row1_col17\" class=\"data row1 col17\" >0.001722</td>\n",
              "      <td id=\"T_922e0_row1_col18\" class=\"data row1 col18\" >nan</td>\n",
              "    </tr>\n",
              "    <tr>\n",
              "      <th id=\"T_922e0_level0_row2\" class=\"row_heading level0 row2\" >OP_CARRIER_AIRLINE_ID</th>\n",
              "      <td id=\"T_922e0_row2_col0\" class=\"data row2 col0\" >-0.031864</td>\n",
              "      <td id=\"T_922e0_row2_col1\" class=\"data row2 col1\" >-0.029715</td>\n",
              "      <td id=\"T_922e0_row2_col2\" class=\"data row2 col2\" >1.000000</td>\n",
              "      <td id=\"T_922e0_row2_col3\" class=\"data row2 col3\" >-0.007594</td>\n",
              "      <td id=\"T_922e0_row2_col4\" class=\"data row2 col4\" >-0.003815</td>\n",
              "      <td id=\"T_922e0_row2_col5\" class=\"data row2 col5\" >0.251053</td>\n",
              "      <td id=\"T_922e0_row2_col6\" class=\"data row2 col6\" >0.000449</td>\n",
              "      <td id=\"T_922e0_row2_col7\" class=\"data row2 col7\" >0.002492</td>\n",
              "      <td id=\"T_922e0_row2_col8\" class=\"data row2 col8\" >0.152437</td>\n",
              "      <td id=\"T_922e0_row2_col9\" class=\"data row2 col9\" >0.011161</td>\n",
              "      <td id=\"T_922e0_row2_col10\" class=\"data row2 col10\" >0.005095</td>\n",
              "      <td id=\"T_922e0_row2_col11\" class=\"data row2 col11\" >-0.124269</td>\n",
              "      <td id=\"T_922e0_row2_col12\" class=\"data row2 col12\" >0.010761</td>\n",
              "      <td id=\"T_922e0_row2_col13\" class=\"data row2 col13\" >0.030387</td>\n",
              "      <td id=\"T_922e0_row2_col14\" class=\"data row2 col14\" >-0.007087</td>\n",
              "      <td id=\"T_922e0_row2_col15\" class=\"data row2 col15\" >0.109230</td>\n",
              "      <td id=\"T_922e0_row2_col16\" class=\"data row2 col16\" >0.013848</td>\n",
              "      <td id=\"T_922e0_row2_col17\" class=\"data row2 col17\" >0.086514</td>\n",
              "      <td id=\"T_922e0_row2_col18\" class=\"data row2 col18\" >nan</td>\n",
              "    </tr>\n",
              "    <tr>\n",
              "      <th id=\"T_922e0_level0_row3\" class=\"row_heading level0 row3\" >CRS_DEP_TIME</th>\n",
              "      <td id=\"T_922e0_row3_col0\" class=\"data row3 col0\" >0.006229</td>\n",
              "      <td id=\"T_922e0_row3_col1\" class=\"data row3 col1\" >0.005217</td>\n",
              "      <td id=\"T_922e0_row3_col2\" class=\"data row3 col2\" >-0.007594</td>\n",
              "      <td id=\"T_922e0_row3_col3\" class=\"data row3 col3\" >1.000000</td>\n",
              "      <td id=\"T_922e0_row3_col4\" class=\"data row3 col4\" >0.976234</td>\n",
              "      <td id=\"T_922e0_row3_col5\" class=\"data row3 col5\" >-0.026101</td>\n",
              "      <td id=\"T_922e0_row3_col6\" class=\"data row3 col6\" >0.956290</td>\n",
              "      <td id=\"T_922e0_row3_col7\" class=\"data row3 col7\" >0.664745</td>\n",
              "      <td id=\"T_922e0_row3_col8\" class=\"data row3 col8\" >-0.077215</td>\n",
              "      <td id=\"T_922e0_row3_col9\" class=\"data row3 col9\" >0.673895</td>\n",
              "      <td id=\"T_922e0_row3_col10\" class=\"data row3 col10\" >0.641595</td>\n",
              "      <td id=\"T_922e0_row3_col11\" class=\"data row3 col11\" >-0.009109</td>\n",
              "      <td id=\"T_922e0_row3_col12\" class=\"data row3 col12\" >-0.004077</td>\n",
              "      <td id=\"T_922e0_row3_col13\" class=\"data row3 col13\" >-0.213649</td>\n",
              "      <td id=\"T_922e0_row3_col14\" class=\"data row3 col14\" >-0.005508</td>\n",
              "      <td id=\"T_922e0_row3_col15\" class=\"data row3 col15\" >0.033040</td>\n",
              "      <td id=\"T_922e0_row3_col16\" class=\"data row3 col16\" >0.020165</td>\n",
              "      <td id=\"T_922e0_row3_col17\" class=\"data row3 col17\" >0.140316</td>\n",
              "      <td id=\"T_922e0_row3_col18\" class=\"data row3 col18\" >nan</td>\n",
              "    </tr>\n",
              "    <tr>\n",
              "      <th id=\"T_922e0_level0_row4\" class=\"row_heading level0 row4\" >DEP_TIME</th>\n",
              "      <td id=\"T_922e0_row4_col0\" class=\"data row4 col0\" >0.006237</td>\n",
              "      <td id=\"T_922e0_row4_col1\" class=\"data row4 col1\" >0.004623</td>\n",
              "      <td id=\"T_922e0_row4_col2\" class=\"data row4 col2\" >-0.003815</td>\n",
              "      <td id=\"T_922e0_row4_col3\" class=\"data row4 col3\" >0.976234</td>\n",
              "      <td id=\"T_922e0_row4_col4\" class=\"data row4 col4\" >1.000000</td>\n",
              "      <td id=\"T_922e0_row4_col5\" class=\"data row4 col5\" >-0.015924</td>\n",
              "      <td id=\"T_922e0_row4_col6\" class=\"data row4 col6\" >0.977772</td>\n",
              "      <td id=\"T_922e0_row4_col7\" class=\"data row4 col7\" >0.675421</td>\n",
              "      <td id=\"T_922e0_row4_col8\" class=\"data row4 col8\" >-0.078539</td>\n",
              "      <td id=\"T_922e0_row4_col9\" class=\"data row4 col9\" >0.672165</td>\n",
              "      <td id=\"T_922e0_row4_col10\" class=\"data row4 col10\" >0.651890</td>\n",
              "      <td id=\"T_922e0_row4_col11\" class=\"data row4 col11\" >-0.003486</td>\n",
              "      <td id=\"T_922e0_row4_col12\" class=\"data row4 col12\" >-0.006026</td>\n",
              "      <td id=\"T_922e0_row4_col13\" class=\"data row4 col13\" >-0.128794</td>\n",
              "      <td id=\"T_922e0_row4_col14\" class=\"data row4 col14\" >0.005159</td>\n",
              "      <td id=\"T_922e0_row4_col15\" class=\"data row4 col15\" >0.024162</td>\n",
              "      <td id=\"T_922e0_row4_col16\" class=\"data row4 col16\" >0.016998</td>\n",
              "      <td id=\"T_922e0_row4_col17\" class=\"data row4 col17\" >0.218284</td>\n",
              "      <td id=\"T_922e0_row4_col18\" class=\"data row4 col18\" >nan</td>\n",
              "    </tr>\n",
              "    <tr>\n",
              "      <th id=\"T_922e0_level0_row5\" class=\"row_heading level0 row5\" >TAXI_OUT</th>\n",
              "      <td id=\"T_922e0_row5_col0\" class=\"data row5 col0\" >-0.014567</td>\n",
              "      <td id=\"T_922e0_row5_col1\" class=\"data row5 col1\" >-0.013542</td>\n",
              "      <td id=\"T_922e0_row5_col2\" class=\"data row5 col2\" >0.251053</td>\n",
              "      <td id=\"T_922e0_row5_col3\" class=\"data row5 col3\" >-0.026101</td>\n",
              "      <td id=\"T_922e0_row5_col4\" class=\"data row5 col4\" >-0.015924</td>\n",
              "      <td id=\"T_922e0_row5_col5\" class=\"data row5 col5\" >1.000000</td>\n",
              "      <td id=\"T_922e0_row5_col6\" class=\"data row5 col6\" >0.010863</td>\n",
              "      <td id=\"T_922e0_row5_col7\" class=\"data row5 col7\" >0.002645</td>\n",
              "      <td id=\"T_922e0_row5_col8\" class=\"data row5 col8\" >0.026427</td>\n",
              "      <td id=\"T_922e0_row5_col9\" class=\"data row5 col9\" >-0.005562</td>\n",
              "      <td id=\"T_922e0_row5_col10\" class=\"data row5 col10\" >0.000520</td>\n",
              "      <td id=\"T_922e0_row5_col11\" class=\"data row5 col11\" >0.010991</td>\n",
              "      <td id=\"T_922e0_row5_col12\" class=\"data row5 col12\" >0.002167</td>\n",
              "      <td id=\"T_922e0_row5_col13\" class=\"data row5 col13\" >-0.052433</td>\n",
              "      <td id=\"T_922e0_row5_col14\" class=\"data row5 col14\" >-0.005706</td>\n",
              "      <td id=\"T_922e0_row5_col15\" class=\"data row5 col15\" >0.376516</td>\n",
              "      <td id=\"T_922e0_row5_col16\" class=\"data row5 col16\" >0.014022</td>\n",
              "      <td id=\"T_922e0_row5_col17\" class=\"data row5 col17\" >-0.025369</td>\n",
              "      <td id=\"T_922e0_row5_col18\" class=\"data row5 col18\" >nan</td>\n",
              "    </tr>\n",
              "    <tr>\n",
              "      <th id=\"T_922e0_level0_row6\" class=\"row_heading level0 row6\" >WHEELS_OFF</th>\n",
              "      <td id=\"T_922e0_row6_col0\" class=\"data row6 col0\" >0.007074</td>\n",
              "      <td id=\"T_922e0_row6_col1\" class=\"data row6 col1\" >0.005682</td>\n",
              "      <td id=\"T_922e0_row6_col2\" class=\"data row6 col2\" >0.000449</td>\n",
              "      <td id=\"T_922e0_row6_col3\" class=\"data row6 col3\" >0.956290</td>\n",
              "      <td id=\"T_922e0_row6_col4\" class=\"data row6 col4\" >0.977772</td>\n",
              "      <td id=\"T_922e0_row6_col5\" class=\"data row6 col5\" >0.010863</td>\n",
              "      <td id=\"T_922e0_row6_col6\" class=\"data row6 col6\" >1.000000</td>\n",
              "      <td id=\"T_922e0_row6_col7\" class=\"data row6 col7\" >0.690457</td>\n",
              "      <td id=\"T_922e0_row6_col8\" class=\"data row6 col8\" >-0.076824</td>\n",
              "      <td id=\"T_922e0_row6_col9\" class=\"data row6 col9\" >0.682398</td>\n",
              "      <td id=\"T_922e0_row6_col10\" class=\"data row6 col10\" >0.666681</td>\n",
              "      <td id=\"T_922e0_row6_col11\" class=\"data row6 col11\" >0.003302</td>\n",
              "      <td id=\"T_922e0_row6_col12\" class=\"data row6 col12\" >-0.009766</td>\n",
              "      <td id=\"T_922e0_row6_col13\" class=\"data row6 col13\" >-0.135508</td>\n",
              "      <td id=\"T_922e0_row6_col14\" class=\"data row6 col14\" >0.005330</td>\n",
              "      <td id=\"T_922e0_row6_col15\" class=\"data row6 col15\" >0.037530</td>\n",
              "      <td id=\"T_922e0_row6_col16\" class=\"data row6 col16\" >0.017670</td>\n",
              "      <td id=\"T_922e0_row6_col17\" class=\"data row6 col17\" >0.211624</td>\n",
              "      <td id=\"T_922e0_row6_col18\" class=\"data row6 col18\" >nan</td>\n",
              "    </tr>\n",
              "    <tr>\n",
              "      <th id=\"T_922e0_level0_row7\" class=\"row_heading level0 row7\" >WHEELS_ON</th>\n",
              "      <td id=\"T_922e0_row7_col0\" class=\"data row7 col0\" >0.007443</td>\n",
              "      <td id=\"T_922e0_row7_col1\" class=\"data row7 col1\" >0.004829</td>\n",
              "      <td id=\"T_922e0_row7_col2\" class=\"data row7 col2\" >0.002492</td>\n",
              "      <td id=\"T_922e0_row7_col3\" class=\"data row7 col3\" >0.664745</td>\n",
              "      <td id=\"T_922e0_row7_col4\" class=\"data row7 col4\" >0.675421</td>\n",
              "      <td id=\"T_922e0_row7_col5\" class=\"data row7 col5\" >0.002645</td>\n",
              "      <td id=\"T_922e0_row7_col6\" class=\"data row7 col6\" >0.690457</td>\n",
              "      <td id=\"T_922e0_row7_col7\" class=\"data row7 col7\" >1.000000</td>\n",
              "      <td id=\"T_922e0_row7_col8\" class=\"data row7 col8\" >-0.032613</td>\n",
              "      <td id=\"T_922e0_row7_col9\" class=\"data row7 col9\" >0.867608</td>\n",
              "      <td id=\"T_922e0_row7_col10\" class=\"data row7 col10\" >0.974042</td>\n",
              "      <td id=\"T_922e0_row7_col11\" class=\"data row7 col11\" >nan</td>\n",
              "      <td id=\"T_922e0_row7_col12\" class=\"data row7 col12\" >-0.001980</td>\n",
              "      <td id=\"T_922e0_row7_col13\" class=\"data row7 col13\" >-0.118668</td>\n",
              "      <td id=\"T_922e0_row7_col14\" class=\"data row7 col14\" >0.010965</td>\n",
              "      <td id=\"T_922e0_row7_col15\" class=\"data row7 col15\" >0.059719</td>\n",
              "      <td id=\"T_922e0_row7_col16\" class=\"data row7 col16\" >0.015192</td>\n",
              "      <td id=\"T_922e0_row7_col17\" class=\"data row7 col17\" >0.069222</td>\n",
              "      <td id=\"T_922e0_row7_col18\" class=\"data row7 col18\" >nan</td>\n",
              "    </tr>\n",
              "    <tr>\n",
              "      <th id=\"T_922e0_level0_row8\" class=\"row_heading level0 row8\" >TAXI_IN</th>\n",
              "      <td id=\"T_922e0_row8_col0\" class=\"data row8 col0\" >-0.006934</td>\n",
              "      <td id=\"T_922e0_row8_col1\" class=\"data row8 col1\" >-0.004648</td>\n",
              "      <td id=\"T_922e0_row8_col2\" class=\"data row8 col2\" >0.152437</td>\n",
              "      <td id=\"T_922e0_row8_col3\" class=\"data row8 col3\" >-0.077215</td>\n",
              "      <td id=\"T_922e0_row8_col4\" class=\"data row8 col4\" >-0.078539</td>\n",
              "      <td id=\"T_922e0_row8_col5\" class=\"data row8 col5\" >0.026427</td>\n",
              "      <td id=\"T_922e0_row8_col6\" class=\"data row8 col6\" >-0.076824</td>\n",
              "      <td id=\"T_922e0_row8_col7\" class=\"data row8 col7\" >-0.032613</td>\n",
              "      <td id=\"T_922e0_row8_col8\" class=\"data row8 col8\" >1.000000</td>\n",
              "      <td id=\"T_922e0_row8_col9\" class=\"data row8 col9\" >-0.025645</td>\n",
              "      <td id=\"T_922e0_row8_col10\" class=\"data row8 col10\" >-0.020756</td>\n",
              "      <td id=\"T_922e0_row8_col11\" class=\"data row8 col11\" >nan</td>\n",
              "      <td id=\"T_922e0_row8_col12\" class=\"data row8 col12\" >-0.000698</td>\n",
              "      <td id=\"T_922e0_row8_col13\" class=\"data row8 col13\" >-0.009855</td>\n",
              "      <td id=\"T_922e0_row8_col14\" class=\"data row8 col14\" >-0.002096</td>\n",
              "      <td id=\"T_922e0_row8_col15\" class=\"data row8 col15\" >0.187579</td>\n",
              "      <td id=\"T_922e0_row8_col16\" class=\"data row8 col16\" >-0.004987</td>\n",
              "      <td id=\"T_922e0_row8_col17\" class=\"data row8 col17\" >-0.076310</td>\n",
              "      <td id=\"T_922e0_row8_col18\" class=\"data row8 col18\" >nan</td>\n",
              "    </tr>\n",
              "    <tr>\n",
              "      <th id=\"T_922e0_level0_row9\" class=\"row_heading level0 row9\" >CRS_ARR_TIME</th>\n",
              "      <td id=\"T_922e0_row9_col0\" class=\"data row9 col0\" >0.008445</td>\n",
              "      <td id=\"T_922e0_row9_col1\" class=\"data row9 col1\" >0.001595</td>\n",
              "      <td id=\"T_922e0_row9_col2\" class=\"data row9 col2\" >0.011161</td>\n",
              "      <td id=\"T_922e0_row9_col3\" class=\"data row9 col3\" >0.673895</td>\n",
              "      <td id=\"T_922e0_row9_col4\" class=\"data row9 col4\" >0.672165</td>\n",
              "      <td id=\"T_922e0_row9_col5\" class=\"data row9 col5\" >-0.005562</td>\n",
              "      <td id=\"T_922e0_row9_col6\" class=\"data row9 col6\" >0.682398</td>\n",
              "      <td id=\"T_922e0_row9_col7\" class=\"data row9 col7\" >0.867608</td>\n",
              "      <td id=\"T_922e0_row9_col8\" class=\"data row9 col8\" >-0.025645</td>\n",
              "      <td id=\"T_922e0_row9_col9\" class=\"data row9 col9\" >1.000000</td>\n",
              "      <td id=\"T_922e0_row9_col10\" class=\"data row9 col10\" >0.869000</td>\n",
              "      <td id=\"T_922e0_row9_col11\" class=\"data row9 col11\" >-0.007114</td>\n",
              "      <td id=\"T_922e0_row9_col12\" class=\"data row9 col12\" >-0.005095</td>\n",
              "      <td id=\"T_922e0_row9_col13\" class=\"data row9 col13\" >-0.186852</td>\n",
              "      <td id=\"T_922e0_row9_col14\" class=\"data row9 col14\" >-0.005492</td>\n",
              "      <td id=\"T_922e0_row9_col15\" class=\"data row9 col15\" >0.054961</td>\n",
              "      <td id=\"T_922e0_row9_col16\" class=\"data row9 col16\" >0.019763</td>\n",
              "      <td id=\"T_922e0_row9_col17\" class=\"data row9 col17\" >0.128233</td>\n",
              "      <td id=\"T_922e0_row9_col18\" class=\"data row9 col18\" >nan</td>\n",
              "    </tr>\n",
              "    <tr>\n",
              "      <th id=\"T_922e0_level0_row10\" class=\"row_heading level0 row10\" >ARR_TIME</th>\n",
              "      <td id=\"T_922e0_row10_col0\" class=\"data row10 col0\" >0.007470</td>\n",
              "      <td id=\"T_922e0_row10_col1\" class=\"data row10 col1\" >0.004191</td>\n",
              "      <td id=\"T_922e0_row10_col2\" class=\"data row10 col2\" >0.005095</td>\n",
              "      <td id=\"T_922e0_row10_col3\" class=\"data row10 col3\" >0.641595</td>\n",
              "      <td id=\"T_922e0_row10_col4\" class=\"data row10 col4\" >0.651890</td>\n",
              "      <td id=\"T_922e0_row10_col5\" class=\"data row10 col5\" >0.000520</td>\n",
              "      <td id=\"T_922e0_row10_col6\" class=\"data row10 col6\" >0.666681</td>\n",
              "      <td id=\"T_922e0_row10_col7\" class=\"data row10 col7\" >0.974042</td>\n",
              "      <td id=\"T_922e0_row10_col8\" class=\"data row10 col8\" >-0.020756</td>\n",
              "      <td id=\"T_922e0_row10_col9\" class=\"data row10 col9\" >0.869000</td>\n",
              "      <td id=\"T_922e0_row10_col10\" class=\"data row10 col10\" >1.000000</td>\n",
              "      <td id=\"T_922e0_row10_col11\" class=\"data row10 col11\" >nan</td>\n",
              "      <td id=\"T_922e0_row10_col12\" class=\"data row10 col12\" >-0.001761</td>\n",
              "      <td id=\"T_922e0_row10_col13\" class=\"data row10 col13\" >-0.110103</td>\n",
              "      <td id=\"T_922e0_row10_col14\" class=\"data row10 col14\" >0.009925</td>\n",
              "      <td id=\"T_922e0_row10_col15\" class=\"data row10 col15\" >0.053081</td>\n",
              "      <td id=\"T_922e0_row10_col16\" class=\"data row10 col16\" >0.015627</td>\n",
              "      <td id=\"T_922e0_row10_col17\" class=\"data row10 col17\" >0.067656</td>\n",
              "      <td id=\"T_922e0_row10_col18\" class=\"data row10 col18\" >nan</td>\n",
              "    </tr>\n",
              "    <tr>\n",
              "      <th id=\"T_922e0_level0_row11\" class=\"row_heading level0 row11\" >CANCELLED</th>\n",
              "      <td id=\"T_922e0_row11_col0\" class=\"data row11 col0\" >0.006281</td>\n",
              "      <td id=\"T_922e0_row11_col1\" class=\"data row11 col1\" >0.005361</td>\n",
              "      <td id=\"T_922e0_row11_col2\" class=\"data row11 col2\" >-0.124269</td>\n",
              "      <td id=\"T_922e0_row11_col3\" class=\"data row11 col3\" >-0.009109</td>\n",
              "      <td id=\"T_922e0_row11_col4\" class=\"data row11 col4\" >-0.003486</td>\n",
              "      <td id=\"T_922e0_row11_col5\" class=\"data row11 col5\" >0.010991</td>\n",
              "      <td id=\"T_922e0_row11_col6\" class=\"data row11 col6\" >0.003302</td>\n",
              "      <td id=\"T_922e0_row11_col7\" class=\"data row11 col7\" >nan</td>\n",
              "      <td id=\"T_922e0_row11_col8\" class=\"data row11 col8\" >nan</td>\n",
              "      <td id=\"T_922e0_row11_col9\" class=\"data row11 col9\" >-0.007114</td>\n",
              "      <td id=\"T_922e0_row11_col10\" class=\"data row11 col10\" >nan</td>\n",
              "      <td id=\"T_922e0_row11_col11\" class=\"data row11 col11\" >1.000000</td>\n",
              "      <td id=\"T_922e0_row11_col12\" class=\"data row11 col12\" >-0.002922</td>\n",
              "      <td id=\"T_922e0_row11_col13\" class=\"data row11 col13\" >nan</td>\n",
              "      <td id=\"T_922e0_row11_col14\" class=\"data row11 col14\" >nan</td>\n",
              "      <td id=\"T_922e0_row11_col15\" class=\"data row11 col15\" >nan</td>\n",
              "      <td id=\"T_922e0_row11_col16\" class=\"data row11 col16\" >nan</td>\n",
              "      <td id=\"T_922e0_row11_col17\" class=\"data row11 col17\" >nan</td>\n",
              "      <td id=\"T_922e0_row11_col18\" class=\"data row11 col18\" >nan</td>\n",
              "    </tr>\n",
              "    <tr>\n",
              "      <th id=\"T_922e0_level0_row12\" class=\"row_heading level0 row12\" >DIVERTED</th>\n",
              "      <td id=\"T_922e0_row12_col0\" class=\"data row12 col0\" >-0.000093</td>\n",
              "      <td id=\"T_922e0_row12_col1\" class=\"data row12 col1\" >-0.001358</td>\n",
              "      <td id=\"T_922e0_row12_col2\" class=\"data row12 col2\" >0.010761</td>\n",
              "      <td id=\"T_922e0_row12_col3\" class=\"data row12 col3\" >-0.004077</td>\n",
              "      <td id=\"T_922e0_row12_col4\" class=\"data row12 col4\" >-0.006026</td>\n",
              "      <td id=\"T_922e0_row12_col5\" class=\"data row12 col5\" >0.002167</td>\n",
              "      <td id=\"T_922e0_row12_col6\" class=\"data row12 col6\" >-0.009766</td>\n",
              "      <td id=\"T_922e0_row12_col7\" class=\"data row12 col7\" >-0.001980</td>\n",
              "      <td id=\"T_922e0_row12_col8\" class=\"data row12 col8\" >-0.000698</td>\n",
              "      <td id=\"T_922e0_row12_col9\" class=\"data row12 col9\" >-0.005095</td>\n",
              "      <td id=\"T_922e0_row12_col10\" class=\"data row12 col10\" >-0.001761</td>\n",
              "      <td id=\"T_922e0_row12_col11\" class=\"data row12 col11\" >-0.002922</td>\n",
              "      <td id=\"T_922e0_row12_col12\" class=\"data row12 col12\" >1.000000</td>\n",
              "      <td id=\"T_922e0_row12_col13\" class=\"data row12 col13\" >nan</td>\n",
              "      <td id=\"T_922e0_row12_col14\" class=\"data row12 col14\" >nan</td>\n",
              "      <td id=\"T_922e0_row12_col15\" class=\"data row12 col15\" >nan</td>\n",
              "      <td id=\"T_922e0_row12_col16\" class=\"data row12 col16\" >nan</td>\n",
              "      <td id=\"T_922e0_row12_col17\" class=\"data row12 col17\" >nan</td>\n",
              "      <td id=\"T_922e0_row12_col18\" class=\"data row12 col18\" >nan</td>\n",
              "    </tr>\n",
              "    <tr>\n",
              "      <th id=\"T_922e0_level0_row13\" class=\"row_heading level0 row13\" >CARRIER_DELAY</th>\n",
              "      <td id=\"T_922e0_row13_col0\" class=\"data row13 col0\" >-0.012629</td>\n",
              "      <td id=\"T_922e0_row13_col1\" class=\"data row13 col1\" >-0.016975</td>\n",
              "      <td id=\"T_922e0_row13_col2\" class=\"data row13 col2\" >0.030387</td>\n",
              "      <td id=\"T_922e0_row13_col3\" class=\"data row13 col3\" >-0.213649</td>\n",
              "      <td id=\"T_922e0_row13_col4\" class=\"data row13 col4\" >-0.128794</td>\n",
              "      <td id=\"T_922e0_row13_col5\" class=\"data row13 col5\" >-0.052433</td>\n",
              "      <td id=\"T_922e0_row13_col6\" class=\"data row13 col6\" >-0.135508</td>\n",
              "      <td id=\"T_922e0_row13_col7\" class=\"data row13 col7\" >-0.118668</td>\n",
              "      <td id=\"T_922e0_row13_col8\" class=\"data row13 col8\" >-0.009855</td>\n",
              "      <td id=\"T_922e0_row13_col9\" class=\"data row13 col9\" >-0.186852</td>\n",
              "      <td id=\"T_922e0_row13_col10\" class=\"data row13 col10\" >-0.110103</td>\n",
              "      <td id=\"T_922e0_row13_col11\" class=\"data row13 col11\" >nan</td>\n",
              "      <td id=\"T_922e0_row13_col12\" class=\"data row13 col12\" >nan</td>\n",
              "      <td id=\"T_922e0_row13_col13\" class=\"data row13 col13\" >1.000000</td>\n",
              "      <td id=\"T_922e0_row13_col14\" class=\"data row13 col14\" >-0.022056</td>\n",
              "      <td id=\"T_922e0_row13_col15\" class=\"data row13 col15\" >-0.092974</td>\n",
              "      <td id=\"T_922e0_row13_col16\" class=\"data row13 col16\" >-0.014683</td>\n",
              "      <td id=\"T_922e0_row13_col17\" class=\"data row13 col17\" >-0.187195</td>\n",
              "      <td id=\"T_922e0_row13_col18\" class=\"data row13 col18\" >nan</td>\n",
              "    </tr>\n",
              "    <tr>\n",
              "      <th id=\"T_922e0_level0_row14\" class=\"row_heading level0 row14\" >WEATHER_DELAY</th>\n",
              "      <td id=\"T_922e0_row14_col0\" class=\"data row14 col0\" >-0.014759</td>\n",
              "      <td id=\"T_922e0_row14_col1\" class=\"data row14 col1\" >-0.014980</td>\n",
              "      <td id=\"T_922e0_row14_col2\" class=\"data row14 col2\" >-0.007087</td>\n",
              "      <td id=\"T_922e0_row14_col3\" class=\"data row14 col3\" >-0.005508</td>\n",
              "      <td id=\"T_922e0_row14_col4\" class=\"data row14 col4\" >0.005159</td>\n",
              "      <td id=\"T_922e0_row14_col5\" class=\"data row14 col5\" >-0.005706</td>\n",
              "      <td id=\"T_922e0_row14_col6\" class=\"data row14 col6\" >0.005330</td>\n",
              "      <td id=\"T_922e0_row14_col7\" class=\"data row14 col7\" >0.010965</td>\n",
              "      <td id=\"T_922e0_row14_col8\" class=\"data row14 col8\" >-0.002096</td>\n",
              "      <td id=\"T_922e0_row14_col9\" class=\"data row14 col9\" >-0.005492</td>\n",
              "      <td id=\"T_922e0_row14_col10\" class=\"data row14 col10\" >0.009925</td>\n",
              "      <td id=\"T_922e0_row14_col11\" class=\"data row14 col11\" >nan</td>\n",
              "      <td id=\"T_922e0_row14_col12\" class=\"data row14 col12\" >nan</td>\n",
              "      <td id=\"T_922e0_row14_col13\" class=\"data row14 col13\" >-0.022056</td>\n",
              "      <td id=\"T_922e0_row14_col14\" class=\"data row14 col14\" >1.000000</td>\n",
              "      <td id=\"T_922e0_row14_col15\" class=\"data row14 col15\" >-0.012849</td>\n",
              "      <td id=\"T_922e0_row14_col16\" class=\"data row14 col16\" >-0.001680</td>\n",
              "      <td id=\"T_922e0_row14_col17\" class=\"data row14 col17\" >-0.024021</td>\n",
              "      <td id=\"T_922e0_row14_col18\" class=\"data row14 col18\" >nan</td>\n",
              "    </tr>\n",
              "    <tr>\n",
              "      <th id=\"T_922e0_level0_row15\" class=\"row_heading level0 row15\" >NAS_DELAY</th>\n",
              "      <td id=\"T_922e0_row15_col0\" class=\"data row15 col0\" >-0.019138</td>\n",
              "      <td id=\"T_922e0_row15_col1\" class=\"data row15 col1\" >-0.021576</td>\n",
              "      <td id=\"T_922e0_row15_col2\" class=\"data row15 col2\" >0.109230</td>\n",
              "      <td id=\"T_922e0_row15_col3\" class=\"data row15 col3\" >0.033040</td>\n",
              "      <td id=\"T_922e0_row15_col4\" class=\"data row15 col4\" >0.024162</td>\n",
              "      <td id=\"T_922e0_row15_col5\" class=\"data row15 col5\" >0.376516</td>\n",
              "      <td id=\"T_922e0_row15_col6\" class=\"data row15 col6\" >0.037530</td>\n",
              "      <td id=\"T_922e0_row15_col7\" class=\"data row15 col7\" >0.059719</td>\n",
              "      <td id=\"T_922e0_row15_col8\" class=\"data row15 col8\" >0.187579</td>\n",
              "      <td id=\"T_922e0_row15_col9\" class=\"data row15 col9\" >0.054961</td>\n",
              "      <td id=\"T_922e0_row15_col10\" class=\"data row15 col10\" >0.053081</td>\n",
              "      <td id=\"T_922e0_row15_col11\" class=\"data row15 col11\" >nan</td>\n",
              "      <td id=\"T_922e0_row15_col12\" class=\"data row15 col12\" >nan</td>\n",
              "      <td id=\"T_922e0_row15_col13\" class=\"data row15 col13\" >-0.092974</td>\n",
              "      <td id=\"T_922e0_row15_col14\" class=\"data row15 col14\" >-0.012849</td>\n",
              "      <td id=\"T_922e0_row15_col15\" class=\"data row15 col15\" >1.000000</td>\n",
              "      <td id=\"T_922e0_row15_col16\" class=\"data row15 col16\" >-0.001482</td>\n",
              "      <td id=\"T_922e0_row15_col17\" class=\"data row15 col17\" >-0.117451</td>\n",
              "      <td id=\"T_922e0_row15_col18\" class=\"data row15 col18\" >nan</td>\n",
              "    </tr>\n",
              "    <tr>\n",
              "      <th id=\"T_922e0_level0_row16\" class=\"row_heading level0 row16\" >SECURITY_DELAY</th>\n",
              "      <td id=\"T_922e0_row16_col0\" class=\"data row16 col0\" >0.006852</td>\n",
              "      <td id=\"T_922e0_row16_col1\" class=\"data row16 col1\" >0.001057</td>\n",
              "      <td id=\"T_922e0_row16_col2\" class=\"data row16 col2\" >0.013848</td>\n",
              "      <td id=\"T_922e0_row16_col3\" class=\"data row16 col3\" >0.020165</td>\n",
              "      <td id=\"T_922e0_row16_col4\" class=\"data row16 col4\" >0.016998</td>\n",
              "      <td id=\"T_922e0_row16_col5\" class=\"data row16 col5\" >0.014022</td>\n",
              "      <td id=\"T_922e0_row16_col6\" class=\"data row16 col6\" >0.017670</td>\n",
              "      <td id=\"T_922e0_row16_col7\" class=\"data row16 col7\" >0.015192</td>\n",
              "      <td id=\"T_922e0_row16_col8\" class=\"data row16 col8\" >-0.004987</td>\n",
              "      <td id=\"T_922e0_row16_col9\" class=\"data row16 col9\" >0.019763</td>\n",
              "      <td id=\"T_922e0_row16_col10\" class=\"data row16 col10\" >0.015627</td>\n",
              "      <td id=\"T_922e0_row16_col11\" class=\"data row16 col11\" >nan</td>\n",
              "      <td id=\"T_922e0_row16_col12\" class=\"data row16 col12\" >nan</td>\n",
              "      <td id=\"T_922e0_row16_col13\" class=\"data row16 col13\" >-0.014683</td>\n",
              "      <td id=\"T_922e0_row16_col14\" class=\"data row16 col14\" >-0.001680</td>\n",
              "      <td id=\"T_922e0_row16_col15\" class=\"data row16 col15\" >-0.001482</td>\n",
              "      <td id=\"T_922e0_row16_col16\" class=\"data row16 col16\" >1.000000</td>\n",
              "      <td id=\"T_922e0_row16_col17\" class=\"data row16 col17\" >-0.003040</td>\n",
              "      <td id=\"T_922e0_row16_col18\" class=\"data row16 col18\" >nan</td>\n",
              "    </tr>\n",
              "    <tr>\n",
              "      <th id=\"T_922e0_level0_row17\" class=\"row_heading level0 row17\" >LATE_AIRCRAFT_DELAY</th>\n",
              "      <td id=\"T_922e0_row17_col0\" class=\"data row17 col0\" >-0.005044</td>\n",
              "      <td id=\"T_922e0_row17_col1\" class=\"data row17 col1\" >0.001722</td>\n",
              "      <td id=\"T_922e0_row17_col2\" class=\"data row17 col2\" >0.086514</td>\n",
              "      <td id=\"T_922e0_row17_col3\" class=\"data row17 col3\" >0.140316</td>\n",
              "      <td id=\"T_922e0_row17_col4\" class=\"data row17 col4\" >0.218284</td>\n",
              "      <td id=\"T_922e0_row17_col5\" class=\"data row17 col5\" >-0.025369</td>\n",
              "      <td id=\"T_922e0_row17_col6\" class=\"data row17 col6\" >0.211624</td>\n",
              "      <td id=\"T_922e0_row17_col7\" class=\"data row17 col7\" >0.069222</td>\n",
              "      <td id=\"T_922e0_row17_col8\" class=\"data row17 col8\" >-0.076310</td>\n",
              "      <td id=\"T_922e0_row17_col9\" class=\"data row17 col9\" >0.128233</td>\n",
              "      <td id=\"T_922e0_row17_col10\" class=\"data row17 col10\" >0.067656</td>\n",
              "      <td id=\"T_922e0_row17_col11\" class=\"data row17 col11\" >nan</td>\n",
              "      <td id=\"T_922e0_row17_col12\" class=\"data row17 col12\" >nan</td>\n",
              "      <td id=\"T_922e0_row17_col13\" class=\"data row17 col13\" >-0.187195</td>\n",
              "      <td id=\"T_922e0_row17_col14\" class=\"data row17 col14\" >-0.024021</td>\n",
              "      <td id=\"T_922e0_row17_col15\" class=\"data row17 col15\" >-0.117451</td>\n",
              "      <td id=\"T_922e0_row17_col16\" class=\"data row17 col16\" >-0.003040</td>\n",
              "      <td id=\"T_922e0_row17_col17\" class=\"data row17 col17\" >1.000000</td>\n",
              "      <td id=\"T_922e0_row17_col18\" class=\"data row17 col18\" >nan</td>\n",
              "    </tr>\n",
              "    <tr>\n",
              "      <th id=\"T_922e0_level0_row18\" class=\"row_heading level0 row18\" >Unnamed: 25</th>\n",
              "      <td id=\"T_922e0_row18_col0\" class=\"data row18 col0\" >nan</td>\n",
              "      <td id=\"T_922e0_row18_col1\" class=\"data row18 col1\" >nan</td>\n",
              "      <td id=\"T_922e0_row18_col2\" class=\"data row18 col2\" >nan</td>\n",
              "      <td id=\"T_922e0_row18_col3\" class=\"data row18 col3\" >nan</td>\n",
              "      <td id=\"T_922e0_row18_col4\" class=\"data row18 col4\" >nan</td>\n",
              "      <td id=\"T_922e0_row18_col5\" class=\"data row18 col5\" >nan</td>\n",
              "      <td id=\"T_922e0_row18_col6\" class=\"data row18 col6\" >nan</td>\n",
              "      <td id=\"T_922e0_row18_col7\" class=\"data row18 col7\" >nan</td>\n",
              "      <td id=\"T_922e0_row18_col8\" class=\"data row18 col8\" >nan</td>\n",
              "      <td id=\"T_922e0_row18_col9\" class=\"data row18 col9\" >nan</td>\n",
              "      <td id=\"T_922e0_row18_col10\" class=\"data row18 col10\" >nan</td>\n",
              "      <td id=\"T_922e0_row18_col11\" class=\"data row18 col11\" >nan</td>\n",
              "      <td id=\"T_922e0_row18_col12\" class=\"data row18 col12\" >nan</td>\n",
              "      <td id=\"T_922e0_row18_col13\" class=\"data row18 col13\" >nan</td>\n",
              "      <td id=\"T_922e0_row18_col14\" class=\"data row18 col14\" >nan</td>\n",
              "      <td id=\"T_922e0_row18_col15\" class=\"data row18 col15\" >nan</td>\n",
              "      <td id=\"T_922e0_row18_col16\" class=\"data row18 col16\" >nan</td>\n",
              "      <td id=\"T_922e0_row18_col17\" class=\"data row18 col17\" >nan</td>\n",
              "      <td id=\"T_922e0_row18_col18\" class=\"data row18 col18\" >nan</td>\n",
              "    </tr>\n",
              "  </tbody>\n",
              "</table>\n"
            ]
          },
          "metadata": {},
          "execution_count": 480
        }
      ]
    },
    {
      "cell_type": "code",
      "source": [
        ""
      ],
      "metadata": {
        "id": "Ax2leLD_kY0X"
      },
      "execution_count": null,
      "outputs": []
    },
    {
      "cell_type": "code",
      "source": [
        "sns.regplot(x=new_df2[\"TAXI_OUT\"], y=new_df2[\"ARR_TIME\"])\n",
        "pyplot.show()"
      ],
      "metadata": {
        "colab": {
          "base_uri": "https://localhost:8080/",
          "height": 282
        },
        "id": "EE9pwbHKXTBY",
        "outputId": "d0171148-6a6e-4d00-ee9f-8d3d84bdebe3"
      },
      "execution_count": null,
      "outputs": [
        {
          "output_type": "display_data",
          "data": {
            "text/plain": [
              "<Figure size 432x288 with 1 Axes>"
            ],
            "image/png": "[encoded data removed]"
          },
          "metadata": {
            "needs_background": "light"
          }
        }
      ]
    },
    {
      "cell_type": "code",
      "source": [
        "sns.regplot(x=new_df2[\"TAXI_IN\"], y=new_df2[\"TAXI_OUT\"])\n",
        "pyplot.show()"
      ],
      "metadata": {
        "id": "v6Nf97B3zx8M",
        "colab": {
          "base_uri": "https://localhost:8080/",
          "height": 280
        },
        "outputId": "62cec32f-1f2e-49f3-a63f-1f73a47d254c"
      },
      "execution_count": null,
      "outputs": [
        {
          "output_type": "display_data",
          "data": {
            "text/plain": [
              "<Figure size 432x288 with 1 Axes>"
            ],
            "image/png": "[encoded data removed]"
          },
          "metadata": {
            "needs_background": "light"
          }
        }
      ]
    },
    {
      "cell_type": "code",
      "source": [
        "sns.regplot(x=new_df2[\"ARR_DELAY\"], y=new_df2[\"DEP_DELAY\"])\n",
        "pyplot.show()"
      ],
      "metadata": {
        "colab": {
          "base_uri": "https://localhost:8080/",
          "height": 280
        },
        "id": "TtWSbAumUJK4",
        "outputId": "d87d20e1-3a57-4c46-fd2f-abaf6368a823"
      },
      "execution_count": null,
      "outputs": [
        {
          "output_type": "display_data",
          "data": {
            "text/plain": [
              "<Figure size 432x288 with 1 Axes>"
            ],
            "image/png": "[encoded data removed]"
          },
          "metadata": {
            "needs_background": "light"
          }
        }
      ]
    },
    {
      "cell_type": "code",
      "execution_count": null,
      "metadata": {
        "colab": {
          "base_uri": "https://localhost:8080/",
          "height": 430
        },
        "id": "eOLauPeF4611",
        "outputId": "78c85aa5-2efc-44d0-b26d-5bd8e085fa93"
      },
      "outputs": [
        {
          "output_type": "execute_result",
          "data": {
            "text/plain": [
              "<matplotlib.axes._subplots.AxesSubplot at 0x7f80af231210>"
            ]
          },
          "metadata": {},
          "execution_count": 158
        },
        {
          "output_type": "display_data",
          "data": {
            "text/plain": [
              "<Figure size 1296x432 with 1 Axes>"
            ],
            "image/png": "[encoded data removed]"
          },
          "metadata": {
            "needs_background": "light"
          }
        }
      ],
      "source": [
        "df.groupBy(\"OP_CARRIER_AIRLINE_ID\").count().sort(\"OP_CARRIER_AIRLINE_ID\", ascending=True).toPandas().plot.bar(x='OP_CARRIER_AIRLINE_ID',figsize=(18, 6))"
      ]
    },
    {
      "cell_type": "code",
      "execution_count": null,
      "metadata": {
        "colab": {
          "base_uri": "https://localhost:8080/",
          "height": 617
        },
        "id": "HLrPtWb54618",
        "outputId": "f665de26-b9f4-4b19-ec5c-b707797dba18"
      },
      "outputs": [
        {
          "output_type": "execute_result",
          "data": {
            "text/plain": [
              "<matplotlib.axes._subplots.AxesSubplot at 0x7f773674b710>"
            ]
          },
          "metadata": {},
          "execution_count": 17
        },
        {
          "output_type": "display_data",
          "data": {
            "text/plain": [
              "<Figure size 1296x432 with 1 Axes>"
            ],
            "image/png": "[encoded data removed]"
          },
          "metadata": {
            "needs_background": "light"
          }
        }
      ],
      "source": [
        "df.groupBy(\"ORIGIN_STATE_NM\").count().sort(\"ORIGIN_STATE_NM\", ascending=True).toPandas().plot.bar(x='ORIGIN_STATE_NM',figsize=(18, 6))"
      ]
    },
    {
      "cell_type": "code",
      "execution_count": null,
      "metadata": {
        "colab": {
          "base_uri": "https://localhost:8080/",
          "height": 617
        },
        "id": "vIdbPYfQ462A",
        "outputId": "44076c8b-3e0a-445b-9cfb-b6647e5aff44"
      },
      "outputs": [
        {
          "output_type": "execute_result",
          "data": {
            "text/plain": [
              "<matplotlib.axes._subplots.AxesSubplot at 0x7f77341dced0>"
            ]
          },
          "metadata": {},
          "execution_count": 20
        },
        {
          "output_type": "display_data",
          "data": {
            "text/plain": [
              "<Figure size 1296x432 with 1 Axes>"
            ],
            "image/png": "[encoded data removed]"
          },
          "metadata": {
            "needs_background": "light"
          }
        }
      ],
      "source": [
        "df.groupBy(\"DEST_STATE_NM\").count().sort(\"DEST_STATE_NM\", ascending=True).toPandas().plot.bar(x='DEST_STATE_NM',figsize=(18, 6))"
      ]
    },
    {
      "cell_type": "code",
      "source": [
        "###################################################################   ML Prediction Part #####################################################"
      ],
      "metadata": {
        "id": "LoYKJZextMW9"
      },
      "execution_count": null,
      "outputs": []
    },
    {
      "cell_type": "code",
      "source": [
        "############################################### Below code is for Regression(Predict exact time a flight might delay)#######################################################\n"
      ],
      "metadata": {
        "id": "-9V1aOevJ5Tw"
      },
      "execution_count": null,
      "outputs": []
    },
    {
      "cell_type": "code",
      "source": [
        "#compute the DEP_DELAY\n",
        "def target_normal3(DEP_TIME,CRS_DEP_TIME):\n",
        "    try:\n",
        "        DEP_TIME=str(int(float(DEP_TIME)))\n",
        "        CRS_DEP_TIME=str(int(float(CRS_DEP_TIME)))\n",
        "        h=time.strptime(DEP_TIME, \"%H%M\")\n",
        "        h1=time.strptime(CRS_DEP_TIME, \"%H%M\")\n",
        "\n",
        "        return (datetime.datetime(h[0],h[1],h[2],h[3],h[4])-datetime.datetime(h1[0],h1[1],h1[2],h1[3],h1[4])).seconds/60\n",
        "    except:\n",
        "        return None\n",
        "    \n",
        "target_normal_udf_g = F.udf(lambda x,y:target_normal3(x,y),FloatType())\n",
        "df_one_one = df_one_one.withColumn(\"DEP_DELAY\", target_normal_udf_g(df[\"DEP_TIME\"],df[\"CRS_DEP_TIME\"]))"
      ],
      "metadata": {
        "id": "wvu0bbI4tMh7"
      },
      "execution_count": null,
      "outputs": []
    },
    {
      "cell_type": "code",
      "source": [
        "\n",
        "#compute the ARR_DELAY and name it label\n",
        "from pyspark.sql.types import *\n",
        "import time\n",
        "import datetime\n",
        "def target_normal2(ARR_TIME,CRS_ARR_TIME):\n",
        "    try:\n",
        "        ARR_TIME=str(int(float(ARR_TIME)))\n",
        "        CRS_ARR_TIME=str(int(float(CRS_ARR_TIME)))\n",
        "        h=time.strptime(ARR_TIME, \"%H%M\")\n",
        "        h1=time.strptime(CRS_ARR_TIME, \"%H%M\")\n",
        "\n",
        "        return (datetime.datetime(h[0],h[1],h[2],h[3],h[4])-datetime.datetime(h1[0],h1[1],h1[2],h1[3],h1[4])).seconds/60\n",
        "    except:\n",
        "        return None\n",
        "    \n",
        "target_normal_udf1 = F.udf(lambda x,y:target_normal2(x,y),FloatType())\n",
        "df_one_one=df_one_one.withColumn(\"label\", target_normal_udf1(df[\"ARR_TIME\"],df[\"CRS_ARR_TIME\"]))\n",
        "df_one_one = df_one_one.filter(df_one_one.label.isNotNull())"
      ],
      "metadata": {
        "id": "tJ8pnsXatMa7"
      },
      "execution_count": null,
      "outputs": []
    },
    {
      "cell_type": "code",
      "source": [
        "from pyspark.sql.types import StructType,StructField, StringType, IntegerType, FloatType\n",
        "from pyspark.sql.functions import col\n",
        "df_one_one = df_one_one.withColumn(\"TAXI_OUT1\", col(\"TAXI_OUT\").cast(FloatType()))\n",
        "df_one_one = df_one_one.drop('TAXI_OUT')\n",
        "df_one_one = df_one_one.withColumn(\"TAXI_IN1\", col(\"TAXI_IN\").cast(FloatType()))\n",
        "df_one_one = df_one_one.drop('TAXI_IN')\n",
        "df_one_one = df_one_one.withColumn(\"CRS_ARR_TIME1\", col(\"CRS_ARR_TIME\").cast(FloatType()))\n",
        "df_one_one = df_one_one.drop('CRS_ARR_TIME')\n",
        "df_one_one = df_one_one.withColumn(\"ARR_TIME1\", col(\"ARR_TIME\").cast(FloatType()))\n",
        "df_one_one = df_one_one.drop('ARR_TIME')\n",
        "df_one_one = df_one_one.withColumn(\"DEP_DELAY1\", col(\"DEP_DELAY\").cast(FloatType()))\n",
        "df_one_one = df_one_one.drop('DEP_DELAY')"
      ],
      "metadata": {
        "id": "uWIMP76BenS9"
      },
      "execution_count": null,
      "outputs": []
    },
    {
      "cell_type": "code",
      "execution_count": null,
      "metadata": {
        "id": "8JRgplElIv-1"
      },
      "outputs": [],
      "source": [
        "from pyspark.ml.evaluation import BinaryClassificationEvaluator\n",
        "from pyspark.ml.evaluation import RegressionEvaluator\n",
        "\n",
        "def calcul(model,train,test):\n",
        "    predictions_train = model.transform(train)\n",
        "    predictions_test = model.transform(test)\n",
        "    evaluator = RegressionEvaluator(\n",
        "        metricName=\"mse\")\n",
        "    train_mse=evaluator.evaluate(predictions_train)\n",
        "    test_mse=evaluator.evaluate(predictions_test)\n",
        "    print('train MSE：', train_mse)\n",
        "    print('test MSE：', test_mse)"
      ]
    },
    {
      "cell_type": "code",
      "execution_count": null,
      "metadata": {
        "id": "PzSuxOUx462G"
      },
      "outputs": [],
      "source": [
        "from pyspark.ml.feature import StringIndexer\n",
        "from pyspark.ml.feature import OneHotEncoder, StringIndexer\n",
        "indexer = StringIndexer(inputCols=['OP_CARRIER_AIRLINE_ID', 'TAIL_NUM', 'ORIGIN','ORIGIN_CITY_NAME','ORIGIN_STATE_NM','DEST'\n",
        "                                  ,'DEST_CITY_NAME','DEST_STATE_NM','TAXI_OUT1','TAXI_IN1','DEP_DELAY1','CRS_ARR_TIME1','ARR_TIME1'], \n",
        "                        outputCols=['OP_CARRIER_AIRLINE_ID_index', 'TAIL_NUM_index', 'ORIGIN_index','ORIGIN_CITY_NAME_index','ORIGIN_STATE_NM_index','DEST_index'\n",
        "                                  ,'DEST_CITY_NAME_index','DEST_STATE_NM_index','TAXI_OUT1_index','TAXI_IN1_index','DEP_DELAY1_index','CRS_ARR_TIME1_index','ARR_TIME1_index'])\n",
        "\n",
        "indexer.setHandleInvalid(\"keep\")\n",
        "encoder = OneHotEncoder(inputCols=['OP_CARRIER_AIRLINE_ID_index', 'TAIL_NUM_index', 'ORIGIN_index','ORIGIN_CITY_NAME_index','ORIGIN_STATE_NM_index','DEST_index'\n",
        "                                  ,'DEST_CITY_NAME_index','DEST_STATE_NM_index','TAXI_OUT1_index','TAXI_IN1_index','DEP_DELAY1_index','CRS_ARR_TIME1_index','ARR_TIME1_index'],\n",
        "                        outputCols=['OP_CARRIER_AIRLINE_ID_vec', 'TAIL_NUM_vec', 'ORIGIN_vec','ORIGIN_CITY_NAME_vec','ORIGIN_STATE_NM_vec','DEST_vec'\n",
        "                                  ,'DEST_CITY_NAME_vec','DEST_STATE_NM_vec','TAXI_OUT1_vec','TAXI_IN1_vec','DEP_DELAY1_vec','CRS_ARR_TIME1_vec','ARR_TIME1_vec'])\n"
      ]
    },
    {
      "cell_type": "code",
      "execution_count": null,
      "metadata": {
        "id": "LLdBdCr1Iv-2"
      },
      "outputs": [],
      "source": [
        "from pyspark.ml.feature import VectorAssembler\n",
        "combine_vector = VectorAssembler(inputCols =['OP_CARRIER_AIRLINE_ID_vec', 'ORIGIN_vec','DEST_vec'\n",
        "                                  ,'TAXI_OUT1_vec','TAXI_IN1_vec','CRS_ARR_TIME1_vec','ARR_TIME1_vec','DEP_DELAY1_vec'], \n",
        "                                   outputCol = 'features')"
      ]
    },
    {
      "cell_type": "code",
      "source": [
        "df_one_one.show(5)"
      ],
      "metadata": {
        "colab": {
          "base_uri": "https://localhost:8080/"
        },
        "id": "a6ayXSWzFvwI",
        "outputId": "86156775-4680-4062-ec08-54b0e2604599"
      },
      "execution_count": null,
      "outputs": [
        {
          "output_type": "stream",
          "name": "stdout",
          "text": [
            "+--------+---------------------+--------+------+-------------------+---------------+----+--------------------+-------------+------------+--------+--------+----------+---------+-------+------------+--------+---------+-----------------+--------+-------------+-------------+---------+--------------+-------------------+-----------+-------+-----------+-----+----------+\n",
            "| FL_DATE|OP_CARRIER_AIRLINE_ID|TAIL_NUM|ORIGIN|   ORIGIN_CITY_NAME|ORIGIN_STATE_NM|DEST|      DEST_CITY_NAME|DEST_STATE_NM|CRS_DEP_TIME|DEP_TIME|TAXI_OUT|WHEELS_OFF|WHEELS_ON|TAXI_IN|CRS_ARR_TIME|ARR_TIME|CANCELLED|CANCELLATION_CODE|DIVERTED|CARRIER_DELAY|WEATHER_DELAY|NAS_DELAY|SECURITY_DELAY|LATE_AIRCRAFT_DELAY|Unnamed: 25|zeroone|dep_zeroone|label|DEP_DELAY1|\n",
            "+--------+---------------------+--------+------+-------------------+---------------+----+--------------------+-------------+------------+--------+--------+----------+---------+-------+------------+--------+---------+-----------------+--------+-------------+-------------+---------+--------------+-------------------+-----------+-------+-----------+-----+----------+\n",
            "|2019/4/1|                20416|  N681NK|   FLL|Fort Lauderdale, FL|        Florida| BQN|       Aguadilla, PR|  Puerto Rico|        1125|    1138|      13|      1151|     1348|      8|        1350|    1356|        0|             null|       0|         null|         null|     null|          null|               null|       null|      1|          1|  6.0|      13.0|\n",
            "|2019/4/1|                20416|  N503NK|   TPA|          Tampa, FL|        Florida| MSP|     Minneapolis, MN|    Minnesota|        1530|    1531|       9|      1540|     1736|     27|        1802|    1803|        0|             null|       0|         null|         null|     null|          null|               null|       null|      1|          1|  1.0|       1.0|\n",
            "|2019/4/1|                20416|  N519NK|   MCO|        Orlando, FL|        Florida| BDL|        Hartford, CT|  Connecticut|        1510|    1531|      18|      1549|     1754|      3|        1754|    1757|        0|             null|       0|         null|         null|     null|          null|               null|       null|      1|          1|  3.0|      21.0|\n",
            "|2019/4/1|                20416|  N524NK|   ATL|        Atlanta, GA|        Georgia| FLL| Fort Lauderdale, FL|      Florida|        1000|    1157|      11|      1208|     1333|      7|        1155|    1340|        0|             null|       0|            0|            0|        0|             0|                105|       null|      1|          1|105.0|     117.0|\n",
            "|2019/4/1|                20416|  N655NK|   LAS|      Las Vegas, NV|         Nevada| DFW|Dallas/Fort Worth...|        Texas|         909|     945|      13|       958|     1358|      9|        1349|    1407|        0|             null|       0|            0|            0|        0|             0|                 18|       null|      1|          1| 18.0|      36.0|\n",
            "+--------+---------------------+--------+------+-------------------+---------------+----+--------------------+-------------+------------+--------+--------+----------+---------+-------+------------+--------+---------+-----------------+--------+-------------+-------------+---------+--------------+-------------------+-----------+-------+-----------+-----+----------+\n",
            "only showing top 5 rows\n",
            "\n"
          ]
        }
      ]
    },
    {
      "cell_type": "code",
      "execution_count": null,
      "metadata": {
        "id": "NH_IfoJ1Iv-3"
      },
      "outputs": [],
      "source": [
        "from pyspark.ml import Pipeline\n",
        "feature_engineering_pipe = Pipeline(stages=[indexer,encoder,combine_vector])"
      ]
    },
    {
      "cell_type": "code",
      "execution_count": null,
      "metadata": {
        "id": "2tyuIoY3Iv-3"
      },
      "outputs": [],
      "source": [
        "splits_reg = df_one_one.randomSplit([0.7, 0.3])\n",
        "train_df_reg = splits_reg[0]\n",
        "test_df_reg = splits_reg[1]"
      ]
    },
    {
      "cell_type": "code",
      "execution_count": null,
      "metadata": {
        "id": "ITbU7kb3Iv-3"
      },
      "outputs": [],
      "source": [
        "feature_engineering_model=feature_engineering_pipe.fit(train_df_reg)"
      ]
    },
    {
      "cell_type": "code",
      "execution_count": null,
      "metadata": {
        "id": "jaBzXgQPIv-3"
      },
      "outputs": [],
      "source": [
        "train_df_feature=feature_engineering_model.transform(train_df_reg)\n",
        "test_df_feature=feature_engineering_model.transform(test_df_reg)"
      ]
    },
    {
      "cell_type": "code",
      "execution_count": null,
      "metadata": {
        "id": "tfNFOUakIv-3"
      },
      "outputs": [],
      "source": [
        "#Test Logistic Regression Model \n",
        "from pyspark.ml.regression import LinearRegression\n",
        "lr = LinearRegression(maxIter=10, regParam=0.3, elasticNetParam=0.8)"
      ]
    },
    {
      "cell_type": "code",
      "execution_count": null,
      "metadata": {
        "id": "zsw3dO-XIv-3"
      },
      "outputs": [],
      "source": [
        "lrModel = lr.fit(train_df_feature)"
      ]
    },
    {
      "cell_type": "code",
      "execution_count": null,
      "metadata": {
        "id": "oVQEtEk6Iv-3",
        "outputId": "fa823bb3-ec4f-47ee-e8c1-c9739214f4f9",
        "colab": {
          "base_uri": "https://localhost:8080/"
        }
      },
      "outputs": [
        {
          "output_type": "stream",
          "name": "stdout",
          "text": [
            "train MSE： 597.9590693590733\n",
            "test MSE： 2236.9409284091976\n"
          ]
        }
      ],
      "source": [
        "calcul(lrModel,train_df_feature,test_df_feature)"
      ]
    },
    {
      "cell_type": "code",
      "execution_count": null,
      "metadata": {
        "id": "36DgHd5AIv-3"
      },
      "outputs": [],
      "source": [
        "#Test Decision Tree Model \n",
        "from pyspark.ml.regression import DecisionTreeRegressor\n",
        "dt = DecisionTreeRegressor()\n",
        "dtModel=dt.fit(train_df_feature)"
      ]
    },
    {
      "cell_type": "code",
      "execution_count": null,
      "metadata": {
        "id": "MwJSXAHJIv-3",
        "outputId": "9dcf9127-1f32-426e-972a-0eed7afd1a19",
        "colab": {
          "base_uri": "https://localhost:8080/"
        }
      },
      "outputs": [
        {
          "output_type": "stream",
          "name": "stdout",
          "text": [
            "train MSE： 7704.549459831495\n",
            "test MSE： 8051.061497903592\n"
          ]
        }
      ],
      "source": [
        "calcul(dtModel,train_df_feature,test_df_feature)"
      ]
    },
    {
      "cell_type": "code",
      "execution_count": null,
      "metadata": {
        "id": "Bhi38zRjIv-4"
      },
      "outputs": [],
      "source": [
        "#Test Random Forest Model\n",
        "from pyspark.ml.regression import RandomForestRegressor\n",
        "rf = RandomForestRegressor()\n",
        "rfModel=rf.fit(train_df_feature)"
      ]
    },
    {
      "cell_type": "code",
      "execution_count": null,
      "metadata": {
        "id": "qw8kk-1DIv-4",
        "outputId": "9c342ea6-d948-4147-c288-57e1d7788853",
        "colab": {
          "base_uri": "https://localhost:8080/"
        }
      },
      "outputs": [
        {
          "output_type": "stream",
          "name": "stdout",
          "text": [
            "train MSE： 7641.434293807262\n",
            "test MSE： 7733.11937971359\n"
          ]
        }
      ],
      "source": [
        "calcul(rfModel,train_df_feature,test_df_feature)"
      ]
    },
    {
      "cell_type": "code",
      "execution_count": null,
      "metadata": {
        "id": "i2CKvPWHIv-4"
      },
      "outputs": [],
      "source": [
        "# Test Gradient Boosting Model \n",
        "from pyspark.ml.regression import GBTRegressor\n",
        "gbt = GBTRegressor(maxIter=10)\n",
        "gbtModel=gbt.fit(train_df_feature)"
      ]
    },
    {
      "cell_type": "code",
      "execution_count": null,
      "metadata": {
        "id": "H4j4cicfIv-4",
        "outputId": "556b162f-e440-465a-8770-c35f2ec0aa43",
        "colab": {
          "base_uri": "https://localhost:8080/"
        }
      },
      "outputs": [
        {
          "output_type": "stream",
          "name": "stdout",
          "text": [
            "train MSE： 6534.220454110317\n",
            "test MSE： 7327.115429227422\n"
          ]
        }
      ],
      "source": [
        "calcul(gbtModel,train_df_feature,test_df_feature)"
      ]
    },
    {
      "cell_type": "code",
      "execution_count": null,
      "metadata": {
        "id": "CobmE51L462Q"
      },
      "outputs": [],
      "source": [
        "#######################################################Below code is for Classification(Flight will or not delay)###########################################################"
      ]
    },
    {
      "cell_type": "code",
      "source": [
        ""
      ],
      "metadata": {
        "id": "zpHAP2hoAPnk"
      },
      "execution_count": null,
      "outputs": []
    },
    {
      "cell_type": "code",
      "source": [
        "# find which row contains delayed flights\n",
        "from pyspark.sql.types import *\n",
        "def target_normal(ARR_TIME,CRS_ARR_TIME):\n",
        "    if float(ARR_TIME)-float(CRS_ARR_TIME)>0:\n",
        "        return 1\n",
        "    else:\n",
        "        return 0\n",
        "target_normal_udf = F.udf(lambda x,y:target_normal(x,y),IntegerType())\n",
        "df_one_cla=df.withColumn(\"label\", target_normal_udf(df[\"ARR_TIME\"],df[\"CRS_ARR_TIME\"]))"
      ],
      "metadata": {
        "id": "J8L8cHpxAPqU"
      },
      "execution_count": null,
      "outputs": []
    },
    {
      "cell_type": "code",
      "source": [
        ""
      ],
      "metadata": {
        "id": "KS_sBZ0BCEi5"
      },
      "execution_count": null,
      "outputs": []
    },
    {
      "cell_type": "code",
      "source": [
        "# find which row contains delayed flights\n",
        "from pyspark.sql.types import *\n",
        "def target_normal(DEP_TIME,CRS_DEP_TIME):\n",
        "    if float(DEP_TIME)-float(CRS_DEP_TIME)>0:\n",
        "        return 1\n",
        "    else:\n",
        "        return 0\n",
        "target_normal_udf = F.udf(lambda x,y:target_normal(x,y),IntegerType())\n",
        "df_one_one_cla=df_one_cla.withColumn(\"dep_zeroone\", target_normal_udf(df[\"DEP_TIME\"],df[\"CRS_DEP_TIME\"]))"
      ],
      "metadata": {
        "id": "EMZ98IZNCFNe"
      },
      "execution_count": null,
      "outputs": []
    },
    {
      "cell_type": "code",
      "source": [
        "#remove rows that flights are not delayed when departing\n",
        "df_one_one_cla = df_one_one_cla.where(df_one_one_cla.dep_zeroone > 0)\n",
        "df_one_one_cla.show(3)"
      ],
      "metadata": {
        "colab": {
          "base_uri": "https://localhost:8080/"
        },
        "outputId": "9ee0dde4-6415-4e5a-c3b3-6c4ded62a655",
        "id": "d7UfovhsCFNe"
      },
      "execution_count": null,
      "outputs": [
        {
          "output_type": "stream",
          "name": "stdout",
          "text": [
            "+--------+---------------------+--------+------+-------------------+---------------+----+--------------+-------------+------------+--------+--------+----------+---------+-------+------------+--------+---------+-----------------+--------+-------------+-------------+---------+--------------+-------------------+-----------+-----+-----------+\n",
            "| FL_DATE|OP_CARRIER_AIRLINE_ID|TAIL_NUM|ORIGIN|   ORIGIN_CITY_NAME|ORIGIN_STATE_NM|DEST|DEST_CITY_NAME|DEST_STATE_NM|CRS_DEP_TIME|DEP_TIME|TAXI_OUT|WHEELS_OFF|WHEELS_ON|TAXI_IN|CRS_ARR_TIME|ARR_TIME|CANCELLED|CANCELLATION_CODE|DIVERTED|CARRIER_DELAY|WEATHER_DELAY|NAS_DELAY|SECURITY_DELAY|LATE_AIRCRAFT_DELAY|Unnamed: 25|label|dep_zeroone|\n",
            "+--------+---------------------+--------+------+-------------------+---------------+----+--------------+-------------+------------+--------+--------+----------+---------+-------+------------+--------+---------+-----------------+--------+-------------+-------------+---------+--------------+-------------------+-----------+-----+-----------+\n",
            "|2019/4/1|                20416|  N656NK|   TPA|          Tampa, FL|        Florida| BOS|    Boston, MA|Massachusetts|        1116|    1126|      10|      1136|     1358|      7|        1428|    1405|        0|             null|       0|         null|         null|     null|          null|               null|       null|    0|          1|\n",
            "|2019/4/1|                20416|  N681NK|   FLL|Fort Lauderdale, FL|        Florida| BQN| Aguadilla, PR|  Puerto Rico|        1125|    1138|      13|      1151|     1348|      8|        1350|    1356|        0|             null|       0|         null|         null|     null|          null|               null|       null|    1|          1|\n",
            "|2019/4/1|                20416|  N609NK|   MCO|        Orlando, FL|        Florida| SJU|  San Juan, PR|  Puerto Rico|        2305|    2308|      16|      2324|      141|      4|         145|     145|        0|             null|       0|         null|         null|     null|          null|               null|       null|    0|          1|\n",
            "+--------+---------------------+--------+------+-------------------+---------------+----+--------------+-------------+------------+--------+--------+----------+---------+-------+------------+--------+---------+-----------------+--------+-------------+-------------+---------+--------------+-------------------+-----------+-----+-----------+\n",
            "only showing top 3 rows\n",
            "\n"
          ]
        }
      ]
    },
    {
      "cell_type": "code",
      "source": [
        "#compute the DEP_DELAY\n",
        "def target_normal3(DEP_TIME,CRS_DEP_TIME):\n",
        "    try:\n",
        "        DEP_TIME=str(int(float(DEP_TIME)))\n",
        "        CRS_DEP_TIME=str(int(float(CRS_DEP_TIME)))\n",
        "        h=time.strptime(DEP_TIME, \"%H%M\")\n",
        "        h1=time.strptime(CRS_DEP_TIME, \"%H%M\")\n",
        "\n",
        "        return (datetime.datetime(h[0],h[1],h[2],h[3],h[4])-datetime.datetime(h1[0],h1[1],h1[2],h1[3],h1[4])).seconds/60\n",
        "    except:\n",
        "        return None\n",
        "    \n",
        "target_normal_udf_g = F.udf(lambda x,y:target_normal3(x,y),FloatType())\n",
        "df_one_one_cla = df_one_one_cla.withColumn(\"DEP_DELAY\", target_normal_udf_g(df[\"DEP_TIME\"],df[\"CRS_DEP_TIME\"]))"
      ],
      "metadata": {
        "id": "SCIi-IokCFNf"
      },
      "execution_count": null,
      "outputs": []
    },
    {
      "cell_type": "code",
      "source": [
        "df_one_one_cla.show()"
      ],
      "metadata": {
        "colab": {
          "base_uri": "https://localhost:8080/"
        },
        "id": "DhBQtWfUCErv",
        "outputId": "57be452e-a274-496e-f97e-9585fcc33d7b"
      },
      "execution_count": null,
      "outputs": [
        {
          "output_type": "stream",
          "name": "stdout",
          "text": [
            "+--------+---------------------+--------+------+-------------------+---------------+----+--------------------+-------------+------------+--------+--------+----------+---------+-------+------------+--------+---------+-----------------+--------+-------------+-------------+---------+--------------+-------------------+-----------+-----+-----------+---------+\n",
            "| FL_DATE|OP_CARRIER_AIRLINE_ID|TAIL_NUM|ORIGIN|   ORIGIN_CITY_NAME|ORIGIN_STATE_NM|DEST|      DEST_CITY_NAME|DEST_STATE_NM|CRS_DEP_TIME|DEP_TIME|TAXI_OUT|WHEELS_OFF|WHEELS_ON|TAXI_IN|CRS_ARR_TIME|ARR_TIME|CANCELLED|CANCELLATION_CODE|DIVERTED|CARRIER_DELAY|WEATHER_DELAY|NAS_DELAY|SECURITY_DELAY|LATE_AIRCRAFT_DELAY|Unnamed: 25|label|dep_zeroone|DEP_DELAY|\n",
            "+--------+---------------------+--------+------+-------------------+---------------+----+--------------------+-------------+------------+--------+--------+----------+---------+-------+------------+--------+---------+-----------------+--------+-------------+-------------+---------+--------------+-------------------+-----------+-----+-----------+---------+\n",
            "|2019/4/1|                20416|  N656NK|   TPA|          Tampa, FL|        Florida| BOS|          Boston, MA|Massachusetts|        1116|    1126|      10|      1136|     1358|      7|        1428|    1405|        0|             null|       0|         null|         null|     null|          null|               null|       null|    0|          1|     10.0|\n",
            "|2019/4/1|                20416|  N681NK|   FLL|Fort Lauderdale, FL|        Florida| BQN|       Aguadilla, PR|  Puerto Rico|        1125|    1138|      13|      1151|     1348|      8|        1350|    1356|        0|             null|       0|         null|         null|     null|          null|               null|       null|    1|          1|     13.0|\n",
            "|2019/4/1|                20416|  N609NK|   MCO|        Orlando, FL|        Florida| SJU|        San Juan, PR|  Puerto Rico|        2305|    2308|      16|      2324|      141|      4|         145|     145|        0|             null|       0|         null|         null|     null|          null|               null|       null|    0|          1|      3.0|\n",
            "|2019/4/1|                20416|  N503NK|   TPA|          Tampa, FL|        Florida| MSP|     Minneapolis, MN|    Minnesota|        1530|    1531|       9|      1540|     1736|     27|        1802|    1803|        0|             null|       0|         null|         null|     null|          null|               null|       null|    1|          1|      1.0|\n",
            "|2019/4/1|                20416|  N609NK|   LGA|       New York, NY|       New York| ORD|         Chicago, IL|     Illinois|         835|     842|      17|       859|      957|     13|        1018|    1010|        0|             null|       0|         null|         null|     null|          null|               null|       null|    0|          1|      7.0|\n",
            "|2019/4/1|                20416|  N519NK|   MCO|        Orlando, FL|        Florida| BDL|        Hartford, CT|  Connecticut|        1510|    1531|      18|      1549|     1754|      3|        1754|    1757|        0|             null|       0|         null|         null|     null|          null|               null|       null|    1|          1|     21.0|\n",
            "|2019/4/1|                20416|  N524NK|   ATL|        Atlanta, GA|        Georgia| FLL| Fort Lauderdale, FL|      Florida|        1000|    1157|      11|      1208|     1333|      7|        1155|    1340|        0|             null|       0|            0|            0|        0|             0|                105|       null|    1|          1|    117.0|\n",
            "|2019/4/1|                20416|  N655NK|   LAS|      Las Vegas, NV|         Nevada| DFW|Dallas/Fort Worth...|        Texas|         909|     945|      13|       958|     1358|      9|        1349|    1407|        0|             null|       0|            0|            0|        0|             0|                 18|       null|    1|          1|     36.0|\n",
            "|2019/4/1|                20416|  N653NK|   MSY|    New Orleans, LA|      Louisiana| DEN|          Denver, CO|     Colorado|         600|     734|      10|       744|      905|     10|         815|     915|        0|             null|       0|           60|            0|        0|             0|                  0|       null|    1|          1|     94.0|\n",
            "|2019/4/1|                20416|  N635NK|   FLL|Fort Lauderdale, FL|        Florida| DTW|         Detroit, MI|     Michigan|        1759|    2306|      23|      2329|      150|      9|        2105|     159|        0|             null|       0|           25|            0|        1|             0|                268|       null|    0|          1|    307.0|\n",
            "|2019/4/1|                20416|  N652NK|   DEN|         Denver, CO|       Colorado| FLL| Fort Lauderdale, FL|      Florida|         920|    1116|      13|      1129|     1643|     32|        1507|    1715|        0|             null|       0|           12|            0|       12|             0|                104|       null|    1|          1|    116.0|\n",
            "|2019/4/1|                20416|  N903NK|   DTW|        Detroit, MI|       Michigan| PBI|West Palm Beach/P...|      Florida|        1445|    1525|      14|      1539|     1810|      4|        1742|    1814|        0|             null|       0|            0|            0|        0|             0|                 32|       null|    1|          1|     40.0|\n",
            "|2019/4/1|                20416|  N913NK|   TPA|          Tampa, FL|        Florida| PHL|    Philadelphia, PA| Pennsylvania|        1446|    1533|      16|      1549|     1748|      8|        1722|    1756|        0|             null|       0|           14|            0|       20|             0|                  0|       null|    1|          1|     47.0|\n",
            "|2019/4/1|                20416|  N641NK|   MSP|    Minneapolis, MN|      Minnesota| MCO|         Orlando, FL|      Florida|         700|     738|      15|       753|     1142|     53|        1121|    1235|        0|             null|       0|           38|            0|       36|             0|                  0|       null|    1|          1|     38.0|\n",
            "|2019/4/1|                20416|  N669NK|   MCO|        Orlando, FL|        Florida| ACY|   Atlantic City, NJ|   New Jersey|         933|     940|      12|       952|     1138|      6|        1150|    1144|        0|             null|       0|         null|         null|     null|          null|               null|       null|    0|          1|      7.0|\n",
            "|2019/4/1|                20416|  N536NK|   MCI|    Kansas City, MO|       Missouri| FLL| Fort Lauderdale, FL|      Florida|        1114|    1207|      10|      1217|     1552|      5|        1516|    1557|        0|             null|       0|            0|            0|        0|             0|                 41|       null|    1|          1|     53.0|\n",
            "|2019/4/1|                20416|  N618NK|   MCO|        Orlando, FL|        Florida| BQN|       Aguadilla, PR|  Puerto Rico|         929|    1219|      16|      1235|     1443|     14|        1210|    1457|        0|             null|       0|           26|            0|        1|             0|                140|       null|    1|          1|    170.0|\n",
            "|2019/4/1|                20416|  N522NK|   FLL|Fort Lauderdale, FL|        Florida| BDL|        Hartford, CT|  Connecticut|         815|     926|       9|       935|     1155|      5|        1112|    1200|        0|             null|       0|           48|            0|        0|             0|                  0|       null|    1|          1|     71.0|\n",
            "|2019/4/1|                20416|  N608NK|   ORD|        Chicago, IL|       Illinois| AUS|          Austin, TX|        Texas|        1542|    1607|      12|      1619|     1828|      6|        1841|    1834|        0|             null|       0|         null|         null|     null|          null|               null|       null|    0|          1|     25.0|\n",
            "|2019/4/1|                20416|  N693NK|   MCI|    Kansas City, MO|       Missouri| MCO|         Orlando, FL|      Florida|        1523|    1643|       9|      1652|     2009|     12|        1905|    2021|        0|             null|       0|            0|            0|        0|             0|                 76|       null|    1|          1|     80.0|\n",
            "+--------+---------------------+--------+------+-------------------+---------------+----+--------------------+-------------+------------+--------+--------+----------+---------+-------+------------+--------+---------+-----------------+--------+-------------+-------------+---------+--------------+-------------------+-----------+-----+-----------+---------+\n",
            "only showing top 20 rows\n",
            "\n"
          ]
        }
      ]
    },
    {
      "cell_type": "code",
      "source": [
        "from pyspark.ml.evaluation import BinaryClassificationEvaluator\n",
        "def calcul2(model,train,test):\n",
        "    predictions_train = model.transform(train)\n",
        "    predictions_test = model.transform(test)\n",
        "    evaluator = BinaryClassificationEvaluator()\n",
        "    print('train AUC：', evaluator.evaluate(predictions_train))\n",
        "    print('test AUC：', evaluator.evaluate(predictions_test))"
      ],
      "metadata": {
        "id": "z0Ch1hAqGN4Q"
      },
      "execution_count": null,
      "outputs": []
    },
    {
      "cell_type": "code",
      "execution_count": null,
      "metadata": {
        "colab": {
          "base_uri": "https://localhost:8080/"
        },
        "id": "4j_L2o6_RWFa",
        "outputId": "4f323e7c-0c91-4a86-ec7f-207db3ec99cb"
      },
      "outputs": [
        {
          "output_type": "execute_result",
          "data": {
            "text/plain": [
              "68473"
            ]
          },
          "metadata": {},
          "execution_count": 446
        }
      ],
      "source": [
        "df_one_one_cla = df_one_one_cla.filter(df_one_one_cla.label. isNotNull())\n",
        "df_one_one_cla.count()"
      ]
    },
    {
      "cell_type": "code",
      "execution_count": null,
      "metadata": {
        "id": "D3TLel8XRWFY"
      },
      "outputs": [],
      "source": [
        "from pyspark.ml.feature import StringIndexer\n",
        "from pyspark.ml.feature import OneHotEncoder, StringIndexer\n",
        "indexer = StringIndexer(inputCols=['OP_CARRIER_AIRLINE_ID', 'TAIL_NUM', 'ORIGIN','ORIGIN_CITY_NAME','ORIGIN_STATE_NM','DEST'\n",
        "                                  ,'DEST_CITY_NAME','DEST_STATE_NM','TAXI_OUT','TAXI_IN','DEP_DELAY','CRS_ARR_TIME','ARR_TIME'], \n",
        "                        outputCols=['OP_CARRIER_AIRLINE_ID_index', 'TAIL_NUM_index', 'ORIGIN_index','ORIGIN_CITY_NAME_index','ORIGIN_STATE_NM_index','DEST_index'\n",
        "                                  ,'DEST_CITY_NAME_index','DEST_STATE_NM_index','TAXI_OUT_index','TAXI_IN_index','DEP_DELAY_index','CRS_ARR_TIME_index','ARR_TIME_index'])\n",
        "# indexed = indexer.fit(df).transform(df)\n",
        "# indexed.show(3)\n",
        "# indexer.setHandleInvalid(\"skip\")\n",
        "indexer.setHandleInvalid(\"keep\")\n",
        "encoder = OneHotEncoder(inputCols=['OP_CARRIER_AIRLINE_ID_index', 'TAIL_NUM_index', 'ORIGIN_index','ORIGIN_CITY_NAME_index','ORIGIN_STATE_NM_index','DEST_index'\n",
        "                                  ,'DEST_CITY_NAME_index','DEST_STATE_NM_index','TAXI_OUT_index','TAXI_IN_index','DEP_DELAY_index','CRS_ARR_TIME_index','ARR_TIME_index'],\n",
        "                        outputCols=['OP_CARRIER_AIRLINE_ID_vec', 'TAIL_NUM_vec', 'ORIGIN_vec','ORIGIN_CITY_NAME_vec','ORIGIN_STATE_NM_vec','DEST_vec'\n",
        "                                  ,'DEST_CITY_NAME_vec','DEST_STATE_NM_vec','TAXI_OUT_vec','TAXI_IN_vec','DEP_DELAY_vec','CRS_ARR_TIME_vec','ARR_TIME_vec'])\n",
        "# model = encoder.fit(indexed)\n",
        "# encoded_df = model.transform(indexed)\n",
        "# encoded_df.show(3)"
      ]
    },
    {
      "cell_type": "code",
      "execution_count": null,
      "metadata": {
        "id": "J3bYhy2eRWFZ"
      },
      "outputs": [],
      "source": [
        "from pyspark.ml.feature import VectorAssembler\n",
        "combine_vector = VectorAssembler(inputCols =['OP_CARRIER_AIRLINE_ID_vec', 'ORIGIN_vec','DEST_vec'\n",
        "                                  ,'TAXI_OUT_vec','TAXI_IN_vec','CRS_ARR_TIME_vec','ARR_TIME_vec','DEP_DELAY_vec'], \n",
        "                                   outputCol = 'features')"
      ]
    },
    {
      "cell_type": "code",
      "execution_count": null,
      "metadata": {
        "id": "wuUi9uYuRWFa"
      },
      "outputs": [],
      "source": [
        "feature_engineering_pipe2 = Pipeline(stages=[indexer,encoder,combine_vector])"
      ]
    },
    {
      "cell_type": "code",
      "execution_count": null,
      "metadata": {
        "id": "NNJowaeVRWFb"
      },
      "outputs": [],
      "source": [
        "#Split into Train and Test \n",
        "splits2 = df_one_one_cla.randomSplit([0.7, 0.3])\n",
        "train_df2 = splits2[0]\n",
        "test_df2 = splits2[1]"
      ]
    },
    {
      "cell_type": "code",
      "execution_count": null,
      "metadata": {
        "id": "2LbB6qp1RWFb"
      },
      "outputs": [],
      "source": [
        "feature_engineering_model2=feature_engineering_pipe2.fit(train_df2)"
      ]
    },
    {
      "cell_type": "code",
      "execution_count": null,
      "metadata": {
        "id": "ZTGhk1rWRWFc"
      },
      "outputs": [],
      "source": [
        "train_df_feature2=feature_engineering_model2.transform(train_df2)\n",
        "test_df_feature2=feature_engineering_model2.transform(test_df2)"
      ]
    },
    {
      "cell_type": "code",
      "execution_count": null,
      "metadata": {
        "id": "DqguP69-RWFc"
      },
      "outputs": [],
      "source": [
        "#test the performance of logistic regression model\n",
        "from pyspark.ml.classification import LogisticRegression\n",
        "lr2 = LogisticRegression()"
      ]
    },
    {
      "cell_type": "code",
      "execution_count": null,
      "metadata": {
        "id": "p6It-PH8RWFd"
      },
      "outputs": [],
      "source": [
        "lrModel2 = lr2.fit(train_df_feature2)"
      ]
    },
    {
      "cell_type": "code",
      "execution_count": null,
      "metadata": {
        "id": "QRwjTN6KRWFd",
        "colab": {
          "base_uri": "https://localhost:8080/"
        },
        "outputId": "6a0c8547-7bbf-42a1-d5fa-38d23ff44764"
      },
      "outputs": [
        {
          "output_type": "stream",
          "name": "stdout",
          "text": [
            "train AUC： 0.9997474978748734\n",
            "test AUC： 0.9701231282033678\n"
          ]
        }
      ],
      "source": [
        "calcul2(lrModel2,train_df_feature2,test_df_feature2)"
      ]
    },
    {
      "cell_type": "code",
      "execution_count": null,
      "metadata": {
        "id": "p_m5tarURWFd"
      },
      "outputs": [],
      "source": [
        "#test the performance of Decision Tree model\n",
        "from pyspark.ml.classification import DecisionTreeClassifier\n",
        "dt2 = DecisionTreeClassifier()\n",
        "dtModel2=dt2.fit(train_df_feature2)"
      ]
    },
    {
      "cell_type": "code",
      "execution_count": null,
      "metadata": {
        "id": "4YbG9Sk8RWFe",
        "colab": {
          "base_uri": "https://localhost:8080/"
        },
        "outputId": "a6f325ec-e526-4f44-b848-cb1d0b28b8e7"
      },
      "outputs": [
        {
          "output_type": "stream",
          "name": "stdout",
          "text": [
            "train AUC： 0.704639637037889\n",
            "test AUC： 0.7061599042197053\n"
          ]
        }
      ],
      "source": [
        "calcul2(dtModel2,train_df_feature2,test_df_feature2)"
      ]
    },
    {
      "cell_type": "code",
      "execution_count": null,
      "metadata": {
        "id": "WLqyh64yRWFe"
      },
      "outputs": [],
      "source": [
        "#Test the performance of Randoom Forest\n",
        "from pyspark.ml.classification import RandomForestClassifier\n",
        "rf2 = RandomForestClassifier()\n",
        "rfModel2=rf2.fit(train_df_feature2)"
      ]
    },
    {
      "cell_type": "code",
      "execution_count": null,
      "metadata": {
        "id": "7eoF9KGMRWFe",
        "colab": {
          "base_uri": "https://localhost:8080/"
        },
        "outputId": "c6013846-f41c-4035-8e8a-0871502fb399"
      },
      "outputs": [
        {
          "output_type": "stream",
          "name": "stdout",
          "text": [
            "train AUC： 0.7734140855247452\n",
            "test AUC： 0.7671954588641292\n"
          ]
        }
      ],
      "source": [
        "calcul2(rfModel2,train_df_feature2,test_df_feature2)"
      ]
    },
    {
      "cell_type": "code",
      "execution_count": null,
      "metadata": {
        "id": "DH2XHz5FRWFf"
      },
      "outputs": [],
      "source": [
        "#Test the performance of Gradient Boosting Model\n",
        "from pyspark.ml.classification import GBTClassifier\n",
        "gbt2 = GBTClassifier()\n",
        "gbtModel2=gbt2.fit(train_df_feature2)"
      ]
    },
    {
      "cell_type": "code",
      "execution_count": null,
      "metadata": {
        "id": "q40RH0RfRWFf",
        "colab": {
          "base_uri": "https://localhost:8080/"
        },
        "outputId": "14b5850b-1e5f-4e04-e4a4-90b8e2dcd6d7"
      },
      "outputs": [
        {
          "output_type": "stream",
          "name": "stdout",
          "text": [
            "train AUC： 0.8404679684109343\n",
            "test AUC： 0.8313686307166334\n"
          ]
        }
      ],
      "source": [
        "calcul2(gbtModel2,train_df_feature2,test_df_feature2)"
      ]
    },
    {
      "cell_type": "code",
      "execution_count": null,
      "metadata": {
        "id": "RnrAOU0j462Q"
      },
      "outputs": [],
      "source": [
        ""
      ]
    },
    {
      "cell_type": "code",
      "execution_count": null,
      "metadata": {
        "id": "uTmxIp9x462Q"
      },
      "outputs": [],
      "source": [
        ""
      ]
    },
    {
      "cell_type": "code",
      "execution_count": null,
      "metadata": {
        "id": "3SRTOf-P462Q"
      },
      "outputs": [],
      "source": [
        ""
      ]
    },
    {
      "cell_type": "code",
      "execution_count": null,
      "metadata": {
        "id": "TXrRo_yC462R"
      },
      "outputs": [],
      "source": [
        ""
      ]
    },
    {
      "cell_type": "code",
      "execution_count": null,
      "metadata": {
        "id": "7hc4u2wP462R"
      },
      "outputs": [],
      "source": [
        ""
      ]
    },
    {
      "cell_type": "code",
      "execution_count": null,
      "metadata": {
        "id": "wgv0_d7X462R"
      },
      "outputs": [],
      "source": [
        ""
      ]
    },
    {
      "cell_type": "code",
      "execution_count": null,
      "metadata": {
        "id": "cTSpzzM-462R"
      },
      "outputs": [],
      "source": [
        ""
      ]
    }
  ],
  "metadata": {
    "kernelspec": {
      "display_name": "Python 3",
      "language": "python",
      "name": "python3"
    },
    "language_info": {
      "codemirror_mode": {
        "name": "ipython",
        "version": 3
      },
      "file_extension": ".py",
      "mimetype": "text/x-python",
      "name": "python",
      "nbconvert_exporter": "python",
      "pygments_lexer": "ipython3",
      "version": "3.6.6"
    },
    "colab": {
      "name": "Final_Project_Group7.ipynb",
      "provenance": [],
      "collapsed_sections": []
    }
  },
  "nbformat": 4,
  "nbformat_minor": 0
}
